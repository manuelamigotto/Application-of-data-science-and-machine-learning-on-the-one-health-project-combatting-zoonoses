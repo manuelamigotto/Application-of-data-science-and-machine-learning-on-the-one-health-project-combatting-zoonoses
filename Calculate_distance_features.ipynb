{
 "cells": [
  {
   "cell_type": "markdown",
   "metadata": {},
   "source": [
    "# Calculate Distances\n",
    "This notebook is for generate features about distances from water sources:<br>\n",
    "<ul>\n",
    "  <li>min_dist: distance in meter between exam's address and nearest water source</li>\n",
    "  <li>count_water_sources: number of water sources contained in the address bounding box</li>\n",
    "</ul>\n",
    "\n",
    "STEPS to obtain features just explained: \n",
    "<ol>\n",
    "  <li>Retrive water geometry.</li>\n",
    "  <li>Retrive address geometry.</li>\n",
    "  <li>Create bounding box.</li>\n",
    "  <li>Calculate all distances.</li>\n",
    "  <li>Retrieve minimum distance from water</li>\n",
    "  <li>Count number of water resources inside bounding box</li>\n",
    "</ol>"
   ]
  },
  {
   "cell_type": "code",
   "execution_count": 1,
   "metadata": {},
   "outputs": [],
   "source": [
    "import shapely.wkt\n",
    "import geopandas as gpd\n",
    "import matplotlib.pyplot as plt\n",
    "import pandas as pd\n",
    "from shapely.geometry import Point\n",
    "from geopandas import GeoDataFrame, GeoSeries\n",
    "import numpy as np\n",
    "from geocode_utils import add_complete_geocode_address\n",
    "import os\n",
    "from distance_utils import create_feature_dict, DictDistFeatures, DistanceFeature\n",
    "import jsonpickle\n",
    "from split_utils import split_in_multiple_csv\n",
    "import pyarrow.feather as feather\n",
    "\n",
    "water_folder = 'C:/Users/manue/Documents/Tesi/waterlayer/' \n",
    "address_file_prefix = \"dataframe_sigla\"\n",
    "target_region = [\"Liguria\",\"VDA\",\"Piemonte\",\"Sicilia\",\"Marche\",\"Abruzzo\",\"Toscana\",\"Campania\",\"Puglia\",\"EmiliaRomagna\",\"TAA\",\"Sardegna\",\"Molise\",\"Calabria\",\"Lazio\",\"FVG\",\"Basilicata\",\"Umbria\",\"Lombardia\",\"Veneto\"] #\"Piemonte\",\"Liguria\",\"VDA\",\"Piemonte\",\"Sicilia\",\"Marche\",\"Abruzzo\",\"Toscana\",\"Campania\",\"Puglia\",\"EmiliaRomagna\",\"TAA\",\"Sardegna\",\"Molise\",\"Calabria\",\"Lazio\",\"FVG\",\"Basilicata\",\"Umbria\",\"Lombardia\",\"Veneto\"\n",
    "diseases = [\"epatite\",\"leishmania\",\"leptospira\",\"salmonella\"] #,\"epatite\",\"leishmania\",\"leptospira\",\"salmonella\"\n",
    "splitted_regions = [\"Piemonte\", \"Lombardia\",\"Veneto\"]\n",
    "splitted_diseases = {\"Piemonte\": [\"salmonella\"],\n",
    "                     \"Lombardia\": [\"leishmania\",\"leptospira\",\"salmonella\"],\n",
    "                     \"Veneto\" : [\"salmonella\"]}\n",
    "folder_distance = \"distances\"\n",
    "bounding_box_km_offset = 2.5\n"
   ]
  },
  {
   "cell_type": "markdown",
   "metadata": {},
   "source": [
    "This function is for generate bounding box around address points. <br>\n",
    "km_offset: half length of bounding box sqare side in km."
   ]
  },
  {
   "cell_type": "code",
   "execution_count": 20,
   "metadata": {},
   "outputs": [],
   "source": [
    "def create_address_bounding_box(address, water, km_offset):\n",
    "    '''\n",
    "    Latitude:  1 deg = 110.54 km\n",
    "    Longitude: 1 deg = 111.320*cos(latitude) km\n",
    "    '''\n",
    "    #calculate bounding box of each address point of 2*km_offset km side  \n",
    "    offset_lat = km_offset/110.54 \n",
    "    bounds = address.bounds\n",
    "    rad = ((bounds['miny'])*2*np.pi)/360\n",
    "    offset_long_const = km_offset /(111.32 * np.cos(rad))\n",
    "    bbox = bounds + [0, -offset_lat, 0, offset_lat]\n",
    "    bbox['minx'] = bounds['minx'] -offset_long_const\n",
    "    bbox['maxx'] = bounds['maxx'] +offset_long_const\n",
    "\n",
    "    #get intersection between boundingbox aroud addresses and water sources\n",
    "    hits = bbox.apply(lambda row: list(water['geometry'].sindex.intersection(row)), axis=1)\n",
    "    \n",
    "    return hits"
   ]
  },
  {
   "cell_type": "code",
   "execution_count": 21,
   "metadata": {},
   "outputs": [
    {
     "name": "stderr",
     "output_type": "stream",
     "text": [
      "C:\\Users\\manue\\AppData\\Local\\Temp\\ipykernel_952\\3021504363.py:12: DtypeWarning: Columns (15,31) have mixed types.Specify dtype option on import or set low_memory=False.\n",
      "  region_n_files[region] = split_in_multiple_csv(in_csv, infolder, outfolder, 500)\n"
     ]
    }
   ],
   "source": [
    "region_n_files = {}\n",
    "#this is only for split some files. It is tooo big for memory\n",
    "for region in splitted_regions:\n",
    "    for disease in splitted_diseases[region]:\n",
    "        infolder = region\n",
    "        in_csv = address_file_prefix + '_' + region + '_' + disease + '_output.csv'\n",
    "        outfolder = region + '/split' \n",
    "        CHECK_FOLDER = os.path.isdir(outfolder)\n",
    "        if not CHECK_FOLDER:\n",
    "            os.makedirs(outfolder)\n",
    "\n",
    "        region_n_files[region] = split_in_multiple_csv(in_csv, infolder, outfolder, 500)"
   ]
  },
  {
   "cell_type": "code",
   "execution_count": 22,
   "metadata": {},
   "outputs": [
    {
     "name": "stdout",
     "output_type": "stream",
     "text": [
      "\n",
      "Start Processing water for region Liguria\n",
      "Length before remove fountain\n",
      "33426\n",
      "Length AFTER remove fountain\n",
      "33420\n",
      "\n",
      "Processing Liguria epatite\n"
     ]
    },
    {
     "name": "stderr",
     "output_type": "stream",
     "text": [
      "C:\\ProgramData\\Anaconda3\\envs\\pyt3_8\\lib\\site-packages\\pyproj\\crs\\crs.py:131: FutureWarning: '+init=<authority>:<code>' syntax is deprecated. '<authority>:<code>' is the preferred initialization method. When making the change, be mindful of axis order changes: https://pyproj4.github.io/pyproj/stable/gotchas.html#axis-order-changes-in-proj-6\n",
      "  in_crs_string = _prepare_from_proj_string(in_crs_string)\n",
      "C:\\Users\\manue\\AppData\\Local\\Temp\\ipykernel_952\\682585845.py:94: UserWarning: this is an initial implementation of Parquet/Feather file support and associated metadata.  This is tracking version 0.1.0 of the metadata specification at https://github.com/geopandas/geo-arrow-spec\n",
      "\n",
      "This metadata specification does not yet make stability promises.  We do not yet recommend using this in a production setting unless you are able to rewrite your Parquet/Feather files.\n",
      "\n",
      "To further ignore this warning, you can do: \n",
      "import warnings; warnings.filterwarnings('ignore', message='.*initial implementation of Parquet.*')\n",
      "  tmp.to_feather(feather_path)\n"
     ]
    },
    {
     "name": "stdout",
     "output_type": "stream",
     "text": [
      "\n",
      "Processing Liguria leishmania\n"
     ]
    },
    {
     "name": "stderr",
     "output_type": "stream",
     "text": [
      "C:\\ProgramData\\Anaconda3\\envs\\pyt3_8\\lib\\site-packages\\IPython\\core\\interactiveshell.py:3444: DtypeWarning: Columns (7,10,11,13,15,38,40) have mixed types.Specify dtype option on import or set low_memory=False.\n",
      "  exec(code_obj, self.user_global_ns, self.user_ns)\n",
      "C:\\ProgramData\\Anaconda3\\envs\\pyt3_8\\lib\\site-packages\\pyproj\\crs\\crs.py:131: FutureWarning: '+init=<authority>:<code>' syntax is deprecated. '<authority>:<code>' is the preferred initialization method. When making the change, be mindful of axis order changes: https://pyproj4.github.io/pyproj/stable/gotchas.html#axis-order-changes-in-proj-6\n",
      "  in_crs_string = _prepare_from_proj_string(in_crs_string)\n",
      "C:\\Users\\manue\\AppData\\Local\\Temp\\ipykernel_952\\682585845.py:94: UserWarning: this is an initial implementation of Parquet/Feather file support and associated metadata.  This is tracking version 0.1.0 of the metadata specification at https://github.com/geopandas/geo-arrow-spec\n",
      "\n",
      "This metadata specification does not yet make stability promises.  We do not yet recommend using this in a production setting unless you are able to rewrite your Parquet/Feather files.\n",
      "\n",
      "To further ignore this warning, you can do: \n",
      "import warnings; warnings.filterwarnings('ignore', message='.*initial implementation of Parquet.*')\n",
      "  tmp.to_feather(feather_path)\n"
     ]
    },
    {
     "name": "stdout",
     "output_type": "stream",
     "text": [
      "\n",
      "Processing Liguria leptospira\n"
     ]
    },
    {
     "name": "stderr",
     "output_type": "stream",
     "text": [
      "C:\\ProgramData\\Anaconda3\\envs\\pyt3_8\\lib\\site-packages\\pyproj\\crs\\crs.py:131: FutureWarning: '+init=<authority>:<code>' syntax is deprecated. '<authority>:<code>' is the preferred initialization method. When making the change, be mindful of axis order changes: https://pyproj4.github.io/pyproj/stable/gotchas.html#axis-order-changes-in-proj-6\n",
      "  in_crs_string = _prepare_from_proj_string(in_crs_string)\n",
      "C:\\Users\\manue\\AppData\\Local\\Temp\\ipykernel_952\\682585845.py:94: UserWarning: this is an initial implementation of Parquet/Feather file support and associated metadata.  This is tracking version 0.1.0 of the metadata specification at https://github.com/geopandas/geo-arrow-spec\n",
      "\n",
      "This metadata specification does not yet make stability promises.  We do not yet recommend using this in a production setting unless you are able to rewrite your Parquet/Feather files.\n",
      "\n",
      "To further ignore this warning, you can do: \n",
      "import warnings; warnings.filterwarnings('ignore', message='.*initial implementation of Parquet.*')\n",
      "  tmp.to_feather(feather_path)\n"
     ]
    },
    {
     "name": "stdout",
     "output_type": "stream",
     "text": [
      "\n",
      "Processing Liguria salmonella\n"
     ]
    },
    {
     "name": "stderr",
     "output_type": "stream",
     "text": [
      "C:\\ProgramData\\Anaconda3\\envs\\pyt3_8\\lib\\site-packages\\pyproj\\crs\\crs.py:131: FutureWarning: '+init=<authority>:<code>' syntax is deprecated. '<authority>:<code>' is the preferred initialization method. When making the change, be mindful of axis order changes: https://pyproj4.github.io/pyproj/stable/gotchas.html#axis-order-changes-in-proj-6\n",
      "  in_crs_string = _prepare_from_proj_string(in_crs_string)\n",
      "C:\\Users\\manue\\AppData\\Local\\Temp\\ipykernel_952\\682585845.py:94: UserWarning: this is an initial implementation of Parquet/Feather file support and associated metadata.  This is tracking version 0.1.0 of the metadata specification at https://github.com/geopandas/geo-arrow-spec\n",
      "\n",
      "This metadata specification does not yet make stability promises.  We do not yet recommend using this in a production setting unless you are able to rewrite your Parquet/Feather files.\n",
      "\n",
      "To further ignore this warning, you can do: \n",
      "import warnings; warnings.filterwarnings('ignore', message='.*initial implementation of Parquet.*')\n",
      "  tmp.to_feather(feather_path)\n"
     ]
    },
    {
     "name": "stdout",
     "output_type": "stream",
     "text": [
      "\n",
      "Start Processing water for region VDA\n",
      "Length before remove fountain\n",
      "7902\n",
      "Length AFTER remove fountain\n",
      "7901\n",
      "\n",
      "Processing VDA epatite\n"
     ]
    },
    {
     "name": "stderr",
     "output_type": "stream",
     "text": [
      "C:\\ProgramData\\Anaconda3\\envs\\pyt3_8\\lib\\site-packages\\pyproj\\crs\\crs.py:131: FutureWarning: '+init=<authority>:<code>' syntax is deprecated. '<authority>:<code>' is the preferred initialization method. When making the change, be mindful of axis order changes: https://pyproj4.github.io/pyproj/stable/gotchas.html#axis-order-changes-in-proj-6\n",
      "  in_crs_string = _prepare_from_proj_string(in_crs_string)\n",
      "C:\\Users\\manue\\AppData\\Local\\Temp\\ipykernel_952\\682585845.py:94: UserWarning: this is an initial implementation of Parquet/Feather file support and associated metadata.  This is tracking version 0.1.0 of the metadata specification at https://github.com/geopandas/geo-arrow-spec\n",
      "\n",
      "This metadata specification does not yet make stability promises.  We do not yet recommend using this in a production setting unless you are able to rewrite your Parquet/Feather files.\n",
      "\n",
      "To further ignore this warning, you can do: \n",
      "import warnings; warnings.filterwarnings('ignore', message='.*initial implementation of Parquet.*')\n",
      "  tmp.to_feather(feather_path)\n"
     ]
    },
    {
     "name": "stdout",
     "output_type": "stream",
     "text": [
      "\n",
      "Processing VDA leishmania\n"
     ]
    },
    {
     "name": "stderr",
     "output_type": "stream",
     "text": [
      "C:\\ProgramData\\Anaconda3\\envs\\pyt3_8\\lib\\site-packages\\pyproj\\crs\\crs.py:131: FutureWarning: '+init=<authority>:<code>' syntax is deprecated. '<authority>:<code>' is the preferred initialization method. When making the change, be mindful of axis order changes: https://pyproj4.github.io/pyproj/stable/gotchas.html#axis-order-changes-in-proj-6\n",
      "  in_crs_string = _prepare_from_proj_string(in_crs_string)\n",
      "C:\\Users\\manue\\AppData\\Local\\Temp\\ipykernel_952\\682585845.py:94: UserWarning: this is an initial implementation of Parquet/Feather file support and associated metadata.  This is tracking version 0.1.0 of the metadata specification at https://github.com/geopandas/geo-arrow-spec\n",
      "\n",
      "This metadata specification does not yet make stability promises.  We do not yet recommend using this in a production setting unless you are able to rewrite your Parquet/Feather files.\n",
      "\n",
      "To further ignore this warning, you can do: \n",
      "import warnings; warnings.filterwarnings('ignore', message='.*initial implementation of Parquet.*')\n",
      "  tmp.to_feather(feather_path)\n"
     ]
    },
    {
     "name": "stdout",
     "output_type": "stream",
     "text": [
      "\n",
      "Processing VDA leptospira\n"
     ]
    },
    {
     "name": "stderr",
     "output_type": "stream",
     "text": [
      "C:\\ProgramData\\Anaconda3\\envs\\pyt3_8\\lib\\site-packages\\pyproj\\crs\\crs.py:131: FutureWarning: '+init=<authority>:<code>' syntax is deprecated. '<authority>:<code>' is the preferred initialization method. When making the change, be mindful of axis order changes: https://pyproj4.github.io/pyproj/stable/gotchas.html#axis-order-changes-in-proj-6\n",
      "  in_crs_string = _prepare_from_proj_string(in_crs_string)\n",
      "C:\\Users\\manue\\AppData\\Local\\Temp\\ipykernel_952\\682585845.py:94: UserWarning: this is an initial implementation of Parquet/Feather file support and associated metadata.  This is tracking version 0.1.0 of the metadata specification at https://github.com/geopandas/geo-arrow-spec\n",
      "\n",
      "This metadata specification does not yet make stability promises.  We do not yet recommend using this in a production setting unless you are able to rewrite your Parquet/Feather files.\n",
      "\n",
      "To further ignore this warning, you can do: \n",
      "import warnings; warnings.filterwarnings('ignore', message='.*initial implementation of Parquet.*')\n",
      "  tmp.to_feather(feather_path)\n"
     ]
    },
    {
     "name": "stdout",
     "output_type": "stream",
     "text": [
      "\n",
      "Processing VDA salmonella\n"
     ]
    },
    {
     "name": "stderr",
     "output_type": "stream",
     "text": [
      "C:\\ProgramData\\Anaconda3\\envs\\pyt3_8\\lib\\site-packages\\pyproj\\crs\\crs.py:131: FutureWarning: '+init=<authority>:<code>' syntax is deprecated. '<authority>:<code>' is the preferred initialization method. When making the change, be mindful of axis order changes: https://pyproj4.github.io/pyproj/stable/gotchas.html#axis-order-changes-in-proj-6\n",
      "  in_crs_string = _prepare_from_proj_string(in_crs_string)\n",
      "C:\\Users\\manue\\AppData\\Local\\Temp\\ipykernel_952\\682585845.py:94: UserWarning: this is an initial implementation of Parquet/Feather file support and associated metadata.  This is tracking version 0.1.0 of the metadata specification at https://github.com/geopandas/geo-arrow-spec\n",
      "\n",
      "This metadata specification does not yet make stability promises.  We do not yet recommend using this in a production setting unless you are able to rewrite your Parquet/Feather files.\n",
      "\n",
      "To further ignore this warning, you can do: \n",
      "import warnings; warnings.filterwarnings('ignore', message='.*initial implementation of Parquet.*')\n",
      "  tmp.to_feather(feather_path)\n"
     ]
    },
    {
     "name": "stdout",
     "output_type": "stream",
     "text": [
      "\n",
      "Start Processing water for region Piemonte\n",
      "Length before remove fountain\n",
      "262284\n",
      "Length AFTER remove fountain\n",
      "261982\n",
      "\n",
      "Processing Piemonte epatite\n"
     ]
    },
    {
     "name": "stderr",
     "output_type": "stream",
     "text": [
      "C:\\ProgramData\\Anaconda3\\envs\\pyt3_8\\lib\\site-packages\\pyproj\\crs\\crs.py:131: FutureWarning: '+init=<authority>:<code>' syntax is deprecated. '<authority>:<code>' is the preferred initialization method. When making the change, be mindful of axis order changes: https://pyproj4.github.io/pyproj/stable/gotchas.html#axis-order-changes-in-proj-6\n",
      "  in_crs_string = _prepare_from_proj_string(in_crs_string)\n",
      "C:\\Users\\manue\\AppData\\Local\\Temp\\ipykernel_952\\682585845.py:94: UserWarning: this is an initial implementation of Parquet/Feather file support and associated metadata.  This is tracking version 0.1.0 of the metadata specification at https://github.com/geopandas/geo-arrow-spec\n",
      "\n",
      "This metadata specification does not yet make stability promises.  We do not yet recommend using this in a production setting unless you are able to rewrite your Parquet/Feather files.\n",
      "\n",
      "To further ignore this warning, you can do: \n",
      "import warnings; warnings.filterwarnings('ignore', message='.*initial implementation of Parquet.*')\n",
      "  tmp.to_feather(feather_path)\n"
     ]
    },
    {
     "name": "stdout",
     "output_type": "stream",
     "text": [
      "\n",
      "Processing Piemonte leishmania\n"
     ]
    },
    {
     "name": "stderr",
     "output_type": "stream",
     "text": [
      "C:\\ProgramData\\Anaconda3\\envs\\pyt3_8\\lib\\site-packages\\pyproj\\crs\\crs.py:131: FutureWarning: '+init=<authority>:<code>' syntax is deprecated. '<authority>:<code>' is the preferred initialization method. When making the change, be mindful of axis order changes: https://pyproj4.github.io/pyproj/stable/gotchas.html#axis-order-changes-in-proj-6\n",
      "  in_crs_string = _prepare_from_proj_string(in_crs_string)\n",
      "C:\\Users\\manue\\AppData\\Local\\Temp\\ipykernel_952\\682585845.py:94: UserWarning: this is an initial implementation of Parquet/Feather file support and associated metadata.  This is tracking version 0.1.0 of the metadata specification at https://github.com/geopandas/geo-arrow-spec\n",
      "\n",
      "This metadata specification does not yet make stability promises.  We do not yet recommend using this in a production setting unless you are able to rewrite your Parquet/Feather files.\n",
      "\n",
      "To further ignore this warning, you can do: \n",
      "import warnings; warnings.filterwarnings('ignore', message='.*initial implementation of Parquet.*')\n",
      "  tmp.to_feather(feather_path)\n"
     ]
    },
    {
     "name": "stdout",
     "output_type": "stream",
     "text": [
      "\n",
      "Processing Piemonte leptospira\n"
     ]
    },
    {
     "name": "stderr",
     "output_type": "stream",
     "text": [
      "C:\\ProgramData\\Anaconda3\\envs\\pyt3_8\\lib\\site-packages\\pyproj\\crs\\crs.py:131: FutureWarning: '+init=<authority>:<code>' syntax is deprecated. '<authority>:<code>' is the preferred initialization method. When making the change, be mindful of axis order changes: https://pyproj4.github.io/pyproj/stable/gotchas.html#axis-order-changes-in-proj-6\n",
      "  in_crs_string = _prepare_from_proj_string(in_crs_string)\n",
      "C:\\Users\\manue\\AppData\\Local\\Temp\\ipykernel_952\\682585845.py:94: UserWarning: this is an initial implementation of Parquet/Feather file support and associated metadata.  This is tracking version 0.1.0 of the metadata specification at https://github.com/geopandas/geo-arrow-spec\n",
      "\n",
      "This metadata specification does not yet make stability promises.  We do not yet recommend using this in a production setting unless you are able to rewrite your Parquet/Feather files.\n",
      "\n",
      "To further ignore this warning, you can do: \n",
      "import warnings; warnings.filterwarnings('ignore', message='.*initial implementation of Parquet.*')\n",
      "  tmp.to_feather(feather_path)\n"
     ]
    },
    {
     "name": "stdout",
     "output_type": "stream",
     "text": [
      "\n",
      "Processing Piemonte salmonella\n"
     ]
    },
    {
     "name": "stderr",
     "output_type": "stream",
     "text": [
      "C:\\ProgramData\\Anaconda3\\envs\\pyt3_8\\lib\\site-packages\\IPython\\core\\interactiveshell.py:3444: DtypeWarning: Columns (15,31) have mixed types.Specify dtype option on import or set low_memory=False.\n",
      "  exec(code_obj, self.user_global_ns, self.user_ns)\n",
      "C:\\ProgramData\\Anaconda3\\envs\\pyt3_8\\lib\\site-packages\\pyproj\\crs\\crs.py:131: FutureWarning: '+init=<authority>:<code>' syntax is deprecated. '<authority>:<code>' is the preferred initialization method. When making the change, be mindful of axis order changes: https://pyproj4.github.io/pyproj/stable/gotchas.html#axis-order-changes-in-proj-6\n",
      "  in_crs_string = _prepare_from_proj_string(in_crs_string)\n",
      "C:\\Users\\manue\\AppData\\Local\\Temp\\ipykernel_952\\682585845.py:94: UserWarning: this is an initial implementation of Parquet/Feather file support and associated metadata.  This is tracking version 0.1.0 of the metadata specification at https://github.com/geopandas/geo-arrow-spec\n",
      "\n",
      "This metadata specification does not yet make stability promises.  We do not yet recommend using this in a production setting unless you are able to rewrite your Parquet/Feather files.\n",
      "\n",
      "To further ignore this warning, you can do: \n",
      "import warnings; warnings.filterwarnings('ignore', message='.*initial implementation of Parquet.*')\n",
      "  tmp.to_feather(feather_path)\n"
     ]
    },
    {
     "name": "stdout",
     "output_type": "stream",
     "text": [
      "\n",
      "Start Processing water for region Sicilia\n",
      "Length before remove fountain\n",
      "21815\n",
      "Length AFTER remove fountain\n",
      "21711\n",
      "\n",
      "Processing Sicilia epatite\n",
      "\n",
      "Processing Sicilia leishmania\n"
     ]
    },
    {
     "name": "stderr",
     "output_type": "stream",
     "text": [
      "C:\\ProgramData\\Anaconda3\\envs\\pyt3_8\\lib\\site-packages\\pyproj\\crs\\crs.py:131: FutureWarning: '+init=<authority>:<code>' syntax is deprecated. '<authority>:<code>' is the preferred initialization method. When making the change, be mindful of axis order changes: https://pyproj4.github.io/pyproj/stable/gotchas.html#axis-order-changes-in-proj-6\n",
      "  in_crs_string = _prepare_from_proj_string(in_crs_string)\n",
      "C:\\Users\\manue\\AppData\\Local\\Temp\\ipykernel_952\\682585845.py:94: UserWarning: this is an initial implementation of Parquet/Feather file support and associated metadata.  This is tracking version 0.1.0 of the metadata specification at https://github.com/geopandas/geo-arrow-spec\n",
      "\n",
      "This metadata specification does not yet make stability promises.  We do not yet recommend using this in a production setting unless you are able to rewrite your Parquet/Feather files.\n",
      "\n",
      "To further ignore this warning, you can do: \n",
      "import warnings; warnings.filterwarnings('ignore', message='.*initial implementation of Parquet.*')\n",
      "  tmp.to_feather(feather_path)\n",
      "C:\\ProgramData\\Anaconda3\\envs\\pyt3_8\\lib\\site-packages\\pyproj\\crs\\crs.py:131: FutureWarning: '+init=<authority>:<code>' syntax is deprecated. '<authority>:<code>' is the preferred initialization method. When making the change, be mindful of axis order changes: https://pyproj4.github.io/pyproj/stable/gotchas.html#axis-order-changes-in-proj-6\n",
      "  in_crs_string = _prepare_from_proj_string(in_crs_string)\n"
     ]
    },
    {
     "name": "stdout",
     "output_type": "stream",
     "text": [
      "\n",
      "Processing Sicilia leptospira\n",
      "\n",
      "Processing Sicilia salmonella\n"
     ]
    },
    {
     "name": "stderr",
     "output_type": "stream",
     "text": [
      "C:\\Users\\manue\\AppData\\Local\\Temp\\ipykernel_952\\682585845.py:94: UserWarning: this is an initial implementation of Parquet/Feather file support and associated metadata.  This is tracking version 0.1.0 of the metadata specification at https://github.com/geopandas/geo-arrow-spec\n",
      "\n",
      "This metadata specification does not yet make stability promises.  We do not yet recommend using this in a production setting unless you are able to rewrite your Parquet/Feather files.\n",
      "\n",
      "To further ignore this warning, you can do: \n",
      "import warnings; warnings.filterwarnings('ignore', message='.*initial implementation of Parquet.*')\n",
      "  tmp.to_feather(feather_path)\n"
     ]
    },
    {
     "name": "stdout",
     "output_type": "stream",
     "text": [
      "\n",
      "Start Processing water for region Marche\n",
      "Length before remove fountain\n",
      "2574\n",
      "Length AFTER remove fountain\n",
      "2569\n",
      "\n",
      "Processing Marche epatite\n"
     ]
    },
    {
     "name": "stderr",
     "output_type": "stream",
     "text": [
      "C:\\ProgramData\\Anaconda3\\envs\\pyt3_8\\lib\\site-packages\\pyproj\\crs\\crs.py:131: FutureWarning: '+init=<authority>:<code>' syntax is deprecated. '<authority>:<code>' is the preferred initialization method. When making the change, be mindful of axis order changes: https://pyproj4.github.io/pyproj/stable/gotchas.html#axis-order-changes-in-proj-6\n",
      "  in_crs_string = _prepare_from_proj_string(in_crs_string)\n",
      "C:\\Users\\manue\\AppData\\Local\\Temp\\ipykernel_952\\682585845.py:94: UserWarning: this is an initial implementation of Parquet/Feather file support and associated metadata.  This is tracking version 0.1.0 of the metadata specification at https://github.com/geopandas/geo-arrow-spec\n",
      "\n",
      "This metadata specification does not yet make stability promises.  We do not yet recommend using this in a production setting unless you are able to rewrite your Parquet/Feather files.\n",
      "\n",
      "To further ignore this warning, you can do: \n",
      "import warnings; warnings.filterwarnings('ignore', message='.*initial implementation of Parquet.*')\n",
      "  tmp.to_feather(feather_path)\n"
     ]
    },
    {
     "name": "stdout",
     "output_type": "stream",
     "text": [
      "\n",
      "Processing Marche leishmania\n"
     ]
    },
    {
     "name": "stderr",
     "output_type": "stream",
     "text": [
      "C:\\ProgramData\\Anaconda3\\envs\\pyt3_8\\lib\\site-packages\\pyproj\\crs\\crs.py:131: FutureWarning: '+init=<authority>:<code>' syntax is deprecated. '<authority>:<code>' is the preferred initialization method. When making the change, be mindful of axis order changes: https://pyproj4.github.io/pyproj/stable/gotchas.html#axis-order-changes-in-proj-6\n",
      "  in_crs_string = _prepare_from_proj_string(in_crs_string)\n",
      "C:\\Users\\manue\\AppData\\Local\\Temp\\ipykernel_952\\682585845.py:94: UserWarning: this is an initial implementation of Parquet/Feather file support and associated metadata.  This is tracking version 0.1.0 of the metadata specification at https://github.com/geopandas/geo-arrow-spec\n",
      "\n",
      "This metadata specification does not yet make stability promises.  We do not yet recommend using this in a production setting unless you are able to rewrite your Parquet/Feather files.\n",
      "\n",
      "To further ignore this warning, you can do: \n",
      "import warnings; warnings.filterwarnings('ignore', message='.*initial implementation of Parquet.*')\n",
      "  tmp.to_feather(feather_path)\n",
      "C:\\ProgramData\\Anaconda3\\envs\\pyt3_8\\lib\\site-packages\\pyproj\\crs\\crs.py:131: FutureWarning: '+init=<authority>:<code>' syntax is deprecated. '<authority>:<code>' is the preferred initialization method. When making the change, be mindful of axis order changes: https://pyproj4.github.io/pyproj/stable/gotchas.html#axis-order-changes-in-proj-6\n",
      "  in_crs_string = _prepare_from_proj_string(in_crs_string)\n"
     ]
    },
    {
     "name": "stdout",
     "output_type": "stream",
     "text": [
      "\n",
      "Processing Marche leptospira\n",
      "\n",
      "Processing Marche salmonella\n"
     ]
    },
    {
     "name": "stderr",
     "output_type": "stream",
     "text": [
      "C:\\Users\\manue\\AppData\\Local\\Temp\\ipykernel_952\\682585845.py:94: UserWarning: this is an initial implementation of Parquet/Feather file support and associated metadata.  This is tracking version 0.1.0 of the metadata specification at https://github.com/geopandas/geo-arrow-spec\n",
      "\n",
      "This metadata specification does not yet make stability promises.  We do not yet recommend using this in a production setting unless you are able to rewrite your Parquet/Feather files.\n",
      "\n",
      "To further ignore this warning, you can do: \n",
      "import warnings; warnings.filterwarnings('ignore', message='.*initial implementation of Parquet.*')\n",
      "  tmp.to_feather(feather_path)\n"
     ]
    },
    {
     "name": "stdout",
     "output_type": "stream",
     "text": [
      "\n",
      "Start Processing water for region Abruzzo\n",
      "Length before remove fountain\n",
      "3728\n",
      "Length AFTER remove fountain\n",
      "3703\n",
      "\n",
      "Processing Abruzzo epatite\n"
     ]
    },
    {
     "name": "stderr",
     "output_type": "stream",
     "text": [
      "C:\\ProgramData\\Anaconda3\\envs\\pyt3_8\\lib\\site-packages\\pyproj\\crs\\crs.py:131: FutureWarning: '+init=<authority>:<code>' syntax is deprecated. '<authority>:<code>' is the preferred initialization method. When making the change, be mindful of axis order changes: https://pyproj4.github.io/pyproj/stable/gotchas.html#axis-order-changes-in-proj-6\n",
      "  in_crs_string = _prepare_from_proj_string(in_crs_string)\n",
      "C:\\Users\\manue\\AppData\\Local\\Temp\\ipykernel_952\\682585845.py:94: UserWarning: this is an initial implementation of Parquet/Feather file support and associated metadata.  This is tracking version 0.1.0 of the metadata specification at https://github.com/geopandas/geo-arrow-spec\n",
      "\n",
      "This metadata specification does not yet make stability promises.  We do not yet recommend using this in a production setting unless you are able to rewrite your Parquet/Feather files.\n",
      "\n",
      "To further ignore this warning, you can do: \n",
      "import warnings; warnings.filterwarnings('ignore', message='.*initial implementation of Parquet.*')\n",
      "  tmp.to_feather(feather_path)\n",
      "C:\\ProgramData\\Anaconda3\\envs\\pyt3_8\\lib\\site-packages\\pyproj\\crs\\crs.py:131: FutureWarning: '+init=<authority>:<code>' syntax is deprecated. '<authority>:<code>' is the preferred initialization method. When making the change, be mindful of axis order changes: https://pyproj4.github.io/pyproj/stable/gotchas.html#axis-order-changes-in-proj-6\n",
      "  in_crs_string = _prepare_from_proj_string(in_crs_string)\n"
     ]
    },
    {
     "name": "stdout",
     "output_type": "stream",
     "text": [
      "\n",
      "Processing Abruzzo leishmania\n"
     ]
    },
    {
     "name": "stderr",
     "output_type": "stream",
     "text": [
      "C:\\Users\\manue\\AppData\\Local\\Temp\\ipykernel_952\\682585845.py:94: UserWarning: this is an initial implementation of Parquet/Feather file support and associated metadata.  This is tracking version 0.1.0 of the metadata specification at https://github.com/geopandas/geo-arrow-spec\n",
      "\n",
      "This metadata specification does not yet make stability promises.  We do not yet recommend using this in a production setting unless you are able to rewrite your Parquet/Feather files.\n",
      "\n",
      "To further ignore this warning, you can do: \n",
      "import warnings; warnings.filterwarnings('ignore', message='.*initial implementation of Parquet.*')\n",
      "  tmp.to_feather(feather_path)\n",
      "C:\\ProgramData\\Anaconda3\\envs\\pyt3_8\\lib\\site-packages\\pyproj\\crs\\crs.py:131: FutureWarning: '+init=<authority>:<code>' syntax is deprecated. '<authority>:<code>' is the preferred initialization method. When making the change, be mindful of axis order changes: https://pyproj4.github.io/pyproj/stable/gotchas.html#axis-order-changes-in-proj-6\n",
      "  in_crs_string = _prepare_from_proj_string(in_crs_string)\n"
     ]
    },
    {
     "name": "stdout",
     "output_type": "stream",
     "text": [
      "\n",
      "Processing Abruzzo leptospira\n",
      "\n",
      "Processing Abruzzo salmonella\n"
     ]
    },
    {
     "name": "stderr",
     "output_type": "stream",
     "text": [
      "C:\\Users\\manue\\AppData\\Local\\Temp\\ipykernel_952\\682585845.py:94: UserWarning: this is an initial implementation of Parquet/Feather file support and associated metadata.  This is tracking version 0.1.0 of the metadata specification at https://github.com/geopandas/geo-arrow-spec\n",
      "\n",
      "This metadata specification does not yet make stability promises.  We do not yet recommend using this in a production setting unless you are able to rewrite your Parquet/Feather files.\n",
      "\n",
      "To further ignore this warning, you can do: \n",
      "import warnings; warnings.filterwarnings('ignore', message='.*initial implementation of Parquet.*')\n",
      "  tmp.to_feather(feather_path)\n"
     ]
    },
    {
     "name": "stdout",
     "output_type": "stream",
     "text": [
      "\n",
      "Start Processing water for region Toscana\n",
      "Length before remove fountain\n",
      "55927\n",
      "Length AFTER remove fountain\n",
      "55898\n",
      "\n",
      "Processing Toscana epatite\n"
     ]
    },
    {
     "name": "stderr",
     "output_type": "stream",
     "text": [
      "C:\\ProgramData\\Anaconda3\\envs\\pyt3_8\\lib\\site-packages\\pyproj\\crs\\crs.py:131: FutureWarning: '+init=<authority>:<code>' syntax is deprecated. '<authority>:<code>' is the preferred initialization method. When making the change, be mindful of axis order changes: https://pyproj4.github.io/pyproj/stable/gotchas.html#axis-order-changes-in-proj-6\n",
      "  in_crs_string = _prepare_from_proj_string(in_crs_string)\n",
      "C:\\Users\\manue\\AppData\\Local\\Temp\\ipykernel_952\\682585845.py:94: UserWarning: this is an initial implementation of Parquet/Feather file support and associated metadata.  This is tracking version 0.1.0 of the metadata specification at https://github.com/geopandas/geo-arrow-spec\n",
      "\n",
      "This metadata specification does not yet make stability promises.  We do not yet recommend using this in a production setting unless you are able to rewrite your Parquet/Feather files.\n",
      "\n",
      "To further ignore this warning, you can do: \n",
      "import warnings; warnings.filterwarnings('ignore', message='.*initial implementation of Parquet.*')\n",
      "  tmp.to_feather(feather_path)\n"
     ]
    },
    {
     "name": "stdout",
     "output_type": "stream",
     "text": [
      "\n",
      "Processing Toscana leishmania\n"
     ]
    },
    {
     "name": "stderr",
     "output_type": "stream",
     "text": [
      "C:\\ProgramData\\Anaconda3\\envs\\pyt3_8\\lib\\site-packages\\pyproj\\crs\\crs.py:131: FutureWarning: '+init=<authority>:<code>' syntax is deprecated. '<authority>:<code>' is the preferred initialization method. When making the change, be mindful of axis order changes: https://pyproj4.github.io/pyproj/stable/gotchas.html#axis-order-changes-in-proj-6\n",
      "  in_crs_string = _prepare_from_proj_string(in_crs_string)\n",
      "C:\\Users\\manue\\AppData\\Local\\Temp\\ipykernel_952\\682585845.py:94: UserWarning: this is an initial implementation of Parquet/Feather file support and associated metadata.  This is tracking version 0.1.0 of the metadata specification at https://github.com/geopandas/geo-arrow-spec\n",
      "\n",
      "This metadata specification does not yet make stability promises.  We do not yet recommend using this in a production setting unless you are able to rewrite your Parquet/Feather files.\n",
      "\n",
      "To further ignore this warning, you can do: \n",
      "import warnings; warnings.filterwarnings('ignore', message='.*initial implementation of Parquet.*')\n",
      "  tmp.to_feather(feather_path)\n"
     ]
    },
    {
     "name": "stdout",
     "output_type": "stream",
     "text": [
      "\n",
      "Processing Toscana leptospira\n",
      "\n",
      "Processing Toscana salmonella\n"
     ]
    },
    {
     "name": "stderr",
     "output_type": "stream",
     "text": [
      "C:\\ProgramData\\Anaconda3\\envs\\pyt3_8\\lib\\site-packages\\pyproj\\crs\\crs.py:131: FutureWarning: '+init=<authority>:<code>' syntax is deprecated. '<authority>:<code>' is the preferred initialization method. When making the change, be mindful of axis order changes: https://pyproj4.github.io/pyproj/stable/gotchas.html#axis-order-changes-in-proj-6\n",
      "  in_crs_string = _prepare_from_proj_string(in_crs_string)\n",
      "C:\\Users\\manue\\AppData\\Local\\Temp\\ipykernel_952\\682585845.py:94: UserWarning: this is an initial implementation of Parquet/Feather file support and associated metadata.  This is tracking version 0.1.0 of the metadata specification at https://github.com/geopandas/geo-arrow-spec\n",
      "\n",
      "This metadata specification does not yet make stability promises.  We do not yet recommend using this in a production setting unless you are able to rewrite your Parquet/Feather files.\n",
      "\n",
      "To further ignore this warning, you can do: \n",
      "import warnings; warnings.filterwarnings('ignore', message='.*initial implementation of Parquet.*')\n",
      "  tmp.to_feather(feather_path)\n"
     ]
    },
    {
     "name": "stdout",
     "output_type": "stream",
     "text": [
      "\n",
      "Start Processing water for region Campania\n",
      "Length before remove fountain\n",
      "3448\n",
      "Length AFTER remove fountain\n",
      "3442\n",
      "\n",
      "Processing Campania epatite\n"
     ]
    },
    {
     "name": "stderr",
     "output_type": "stream",
     "text": [
      "C:\\ProgramData\\Anaconda3\\envs\\pyt3_8\\lib\\site-packages\\pyproj\\crs\\crs.py:131: FutureWarning: '+init=<authority>:<code>' syntax is deprecated. '<authority>:<code>' is the preferred initialization method. When making the change, be mindful of axis order changes: https://pyproj4.github.io/pyproj/stable/gotchas.html#axis-order-changes-in-proj-6\n",
      "  in_crs_string = _prepare_from_proj_string(in_crs_string)\n",
      "C:\\Users\\manue\\AppData\\Local\\Temp\\ipykernel_952\\682585845.py:94: UserWarning: this is an initial implementation of Parquet/Feather file support and associated metadata.  This is tracking version 0.1.0 of the metadata specification at https://github.com/geopandas/geo-arrow-spec\n",
      "\n",
      "This metadata specification does not yet make stability promises.  We do not yet recommend using this in a production setting unless you are able to rewrite your Parquet/Feather files.\n",
      "\n",
      "To further ignore this warning, you can do: \n",
      "import warnings; warnings.filterwarnings('ignore', message='.*initial implementation of Parquet.*')\n",
      "  tmp.to_feather(feather_path)\n"
     ]
    },
    {
     "name": "stdout",
     "output_type": "stream",
     "text": [
      "\n",
      "Processing Campania leishmania\n"
     ]
    },
    {
     "name": "stderr",
     "output_type": "stream",
     "text": [
      "C:\\ProgramData\\Anaconda3\\envs\\pyt3_8\\lib\\site-packages\\pyproj\\crs\\crs.py:131: FutureWarning: '+init=<authority>:<code>' syntax is deprecated. '<authority>:<code>' is the preferred initialization method. When making the change, be mindful of axis order changes: https://pyproj4.github.io/pyproj/stable/gotchas.html#axis-order-changes-in-proj-6\n",
      "  in_crs_string = _prepare_from_proj_string(in_crs_string)\n",
      "C:\\Users\\manue\\AppData\\Local\\Temp\\ipykernel_952\\682585845.py:94: UserWarning: this is an initial implementation of Parquet/Feather file support and associated metadata.  This is tracking version 0.1.0 of the metadata specification at https://github.com/geopandas/geo-arrow-spec\n",
      "\n",
      "This metadata specification does not yet make stability promises.  We do not yet recommend using this in a production setting unless you are able to rewrite your Parquet/Feather files.\n",
      "\n",
      "To further ignore this warning, you can do: \n",
      "import warnings; warnings.filterwarnings('ignore', message='.*initial implementation of Parquet.*')\n",
      "  tmp.to_feather(feather_path)\n"
     ]
    },
    {
     "name": "stdout",
     "output_type": "stream",
     "text": [
      "\n",
      "Processing Campania leptospira\n",
      "\n",
      "Processing Campania salmonella\n"
     ]
    },
    {
     "name": "stderr",
     "output_type": "stream",
     "text": [
      "C:\\ProgramData\\Anaconda3\\envs\\pyt3_8\\lib\\site-packages\\pyproj\\crs\\crs.py:131: FutureWarning: '+init=<authority>:<code>' syntax is deprecated. '<authority>:<code>' is the preferred initialization method. When making the change, be mindful of axis order changes: https://pyproj4.github.io/pyproj/stable/gotchas.html#axis-order-changes-in-proj-6\n",
      "  in_crs_string = _prepare_from_proj_string(in_crs_string)\n",
      "C:\\Users\\manue\\AppData\\Local\\Temp\\ipykernel_952\\682585845.py:94: UserWarning: this is an initial implementation of Parquet/Feather file support and associated metadata.  This is tracking version 0.1.0 of the metadata specification at https://github.com/geopandas/geo-arrow-spec\n",
      "\n",
      "This metadata specification does not yet make stability promises.  We do not yet recommend using this in a production setting unless you are able to rewrite your Parquet/Feather files.\n",
      "\n",
      "To further ignore this warning, you can do: \n",
      "import warnings; warnings.filterwarnings('ignore', message='.*initial implementation of Parquet.*')\n",
      "  tmp.to_feather(feather_path)\n"
     ]
    },
    {
     "name": "stdout",
     "output_type": "stream",
     "text": [
      "\n",
      "Start Processing water for region Puglia\n",
      "Length before remove fountain\n",
      "3204\n",
      "Length AFTER remove fountain\n",
      "3180\n",
      "\n",
      "Processing Puglia epatite\n"
     ]
    },
    {
     "name": "stderr",
     "output_type": "stream",
     "text": [
      "C:\\ProgramData\\Anaconda3\\envs\\pyt3_8\\lib\\site-packages\\pyproj\\crs\\crs.py:131: FutureWarning: '+init=<authority>:<code>' syntax is deprecated. '<authority>:<code>' is the preferred initialization method. When making the change, be mindful of axis order changes: https://pyproj4.github.io/pyproj/stable/gotchas.html#axis-order-changes-in-proj-6\n",
      "  in_crs_string = _prepare_from_proj_string(in_crs_string)\n",
      "C:\\Users\\manue\\AppData\\Local\\Temp\\ipykernel_952\\682585845.py:94: UserWarning: this is an initial implementation of Parquet/Feather file support and associated metadata.  This is tracking version 0.1.0 of the metadata specification at https://github.com/geopandas/geo-arrow-spec\n",
      "\n",
      "This metadata specification does not yet make stability promises.  We do not yet recommend using this in a production setting unless you are able to rewrite your Parquet/Feather files.\n",
      "\n",
      "To further ignore this warning, you can do: \n",
      "import warnings; warnings.filterwarnings('ignore', message='.*initial implementation of Parquet.*')\n",
      "  tmp.to_feather(feather_path)\n",
      "C:\\ProgramData\\Anaconda3\\envs\\pyt3_8\\lib\\site-packages\\pyproj\\crs\\crs.py:131: FutureWarning: '+init=<authority>:<code>' syntax is deprecated. '<authority>:<code>' is the preferred initialization method. When making the change, be mindful of axis order changes: https://pyproj4.github.io/pyproj/stable/gotchas.html#axis-order-changes-in-proj-6\n",
      "  in_crs_string = _prepare_from_proj_string(in_crs_string)\n"
     ]
    },
    {
     "name": "stdout",
     "output_type": "stream",
     "text": [
      "\n",
      "Processing Puglia leishmania\n"
     ]
    },
    {
     "name": "stderr",
     "output_type": "stream",
     "text": [
      "C:\\Users\\manue\\AppData\\Local\\Temp\\ipykernel_952\\682585845.py:94: UserWarning: this is an initial implementation of Parquet/Feather file support and associated metadata.  This is tracking version 0.1.0 of the metadata specification at https://github.com/geopandas/geo-arrow-spec\n",
      "\n",
      "This metadata specification does not yet make stability promises.  We do not yet recommend using this in a production setting unless you are able to rewrite your Parquet/Feather files.\n",
      "\n",
      "To further ignore this warning, you can do: \n",
      "import warnings; warnings.filterwarnings('ignore', message='.*initial implementation of Parquet.*')\n",
      "  tmp.to_feather(feather_path)\n",
      "C:\\ProgramData\\Anaconda3\\envs\\pyt3_8\\lib\\site-packages\\pyproj\\crs\\crs.py:131: FutureWarning: '+init=<authority>:<code>' syntax is deprecated. '<authority>:<code>' is the preferred initialization method. When making the change, be mindful of axis order changes: https://pyproj4.github.io/pyproj/stable/gotchas.html#axis-order-changes-in-proj-6\n",
      "  in_crs_string = _prepare_from_proj_string(in_crs_string)\n"
     ]
    },
    {
     "name": "stdout",
     "output_type": "stream",
     "text": [
      "\n",
      "Processing Puglia leptospira\n",
      "\n",
      "Processing Puglia salmonella\n"
     ]
    },
    {
     "name": "stderr",
     "output_type": "stream",
     "text": [
      "C:\\Users\\manue\\AppData\\Local\\Temp\\ipykernel_952\\682585845.py:94: UserWarning: this is an initial implementation of Parquet/Feather file support and associated metadata.  This is tracking version 0.1.0 of the metadata specification at https://github.com/geopandas/geo-arrow-spec\n",
      "\n",
      "This metadata specification does not yet make stability promises.  We do not yet recommend using this in a production setting unless you are able to rewrite your Parquet/Feather files.\n",
      "\n",
      "To further ignore this warning, you can do: \n",
      "import warnings; warnings.filterwarnings('ignore', message='.*initial implementation of Parquet.*')\n",
      "  tmp.to_feather(feather_path)\n"
     ]
    },
    {
     "name": "stdout",
     "output_type": "stream",
     "text": [
      "\n",
      "Start Processing water for region EmiliaRomagna\n",
      "Length before remove fountain\n",
      "18968\n",
      "Length AFTER remove fountain\n",
      "18945\n",
      "\n",
      "Processing EmiliaRomagna epatite\n"
     ]
    },
    {
     "name": "stderr",
     "output_type": "stream",
     "text": [
      "C:\\ProgramData\\Anaconda3\\envs\\pyt3_8\\lib\\site-packages\\pyproj\\crs\\crs.py:131: FutureWarning: '+init=<authority>:<code>' syntax is deprecated. '<authority>:<code>' is the preferred initialization method. When making the change, be mindful of axis order changes: https://pyproj4.github.io/pyproj/stable/gotchas.html#axis-order-changes-in-proj-6\n",
      "  in_crs_string = _prepare_from_proj_string(in_crs_string)\n",
      "C:\\Users\\manue\\AppData\\Local\\Temp\\ipykernel_952\\682585845.py:94: UserWarning: this is an initial implementation of Parquet/Feather file support and associated metadata.  This is tracking version 0.1.0 of the metadata specification at https://github.com/geopandas/geo-arrow-spec\n",
      "\n",
      "This metadata specification does not yet make stability promises.  We do not yet recommend using this in a production setting unless you are able to rewrite your Parquet/Feather files.\n",
      "\n",
      "To further ignore this warning, you can do: \n",
      "import warnings; warnings.filterwarnings('ignore', message='.*initial implementation of Parquet.*')\n",
      "  tmp.to_feather(feather_path)\n"
     ]
    },
    {
     "name": "stdout",
     "output_type": "stream",
     "text": [
      "\n",
      "Processing EmiliaRomagna leishmania\n"
     ]
    },
    {
     "name": "stderr",
     "output_type": "stream",
     "text": [
      "C:\\ProgramData\\Anaconda3\\envs\\pyt3_8\\lib\\site-packages\\pyproj\\crs\\crs.py:131: FutureWarning: '+init=<authority>:<code>' syntax is deprecated. '<authority>:<code>' is the preferred initialization method. When making the change, be mindful of axis order changes: https://pyproj4.github.io/pyproj/stable/gotchas.html#axis-order-changes-in-proj-6\n",
      "  in_crs_string = _prepare_from_proj_string(in_crs_string)\n",
      "C:\\Users\\manue\\AppData\\Local\\Temp\\ipykernel_952\\682585845.py:94: UserWarning: this is an initial implementation of Parquet/Feather file support and associated metadata.  This is tracking version 0.1.0 of the metadata specification at https://github.com/geopandas/geo-arrow-spec\n",
      "\n",
      "This metadata specification does not yet make stability promises.  We do not yet recommend using this in a production setting unless you are able to rewrite your Parquet/Feather files.\n",
      "\n",
      "To further ignore this warning, you can do: \n",
      "import warnings; warnings.filterwarnings('ignore', message='.*initial implementation of Parquet.*')\n",
      "  tmp.to_feather(feather_path)\n"
     ]
    },
    {
     "name": "stdout",
     "output_type": "stream",
     "text": [
      "\n",
      "Processing EmiliaRomagna leptospira\n",
      "\n",
      "Processing EmiliaRomagna salmonella\n"
     ]
    },
    {
     "name": "stderr",
     "output_type": "stream",
     "text": [
      "C:\\ProgramData\\Anaconda3\\envs\\pyt3_8\\lib\\site-packages\\pyproj\\crs\\crs.py:131: FutureWarning: '+init=<authority>:<code>' syntax is deprecated. '<authority>:<code>' is the preferred initialization method. When making the change, be mindful of axis order changes: https://pyproj4.github.io/pyproj/stable/gotchas.html#axis-order-changes-in-proj-6\n",
      "  in_crs_string = _prepare_from_proj_string(in_crs_string)\n",
      "C:\\Users\\manue\\AppData\\Local\\Temp\\ipykernel_952\\682585845.py:94: UserWarning: this is an initial implementation of Parquet/Feather file support and associated metadata.  This is tracking version 0.1.0 of the metadata specification at https://github.com/geopandas/geo-arrow-spec\n",
      "\n",
      "This metadata specification does not yet make stability promises.  We do not yet recommend using this in a production setting unless you are able to rewrite your Parquet/Feather files.\n",
      "\n",
      "To further ignore this warning, you can do: \n",
      "import warnings; warnings.filterwarnings('ignore', message='.*initial implementation of Parquet.*')\n",
      "  tmp.to_feather(feather_path)\n",
      "C:\\ProgramData\\Anaconda3\\envs\\pyt3_8\\lib\\site-packages\\pyproj\\crs\\crs.py:131: FutureWarning: '+init=<authority>:<code>' syntax is deprecated. '<authority>:<code>' is the preferred initialization method. When making the change, be mindful of axis order changes: https://pyproj4.github.io/pyproj/stable/gotchas.html#axis-order-changes-in-proj-6\n",
      "  in_crs_string = _prepare_from_proj_string(in_crs_string)\n",
      "C:\\Users\\manue\\AppData\\Local\\Temp\\ipykernel_952\\682585845.py:94: UserWarning: this is an initial implementation of Parquet/Feather file support and associated metadata.  This is tracking version 0.1.0 of the metadata specification at https://github.com/geopandas/geo-arrow-spec\n",
      "\n",
      "This metadata specification does not yet make stability promises.  We do not yet recommend using this in a production setting unless you are able to rewrite your Parquet/Feather files.\n",
      "\n",
      "To further ignore this warning, you can do: \n",
      "import warnings; warnings.filterwarnings('ignore', message='.*initial implementation of Parquet.*')\n",
      "  tmp.to_feather(feather_path)\n"
     ]
    },
    {
     "name": "stdout",
     "output_type": "stream",
     "text": [
      "\n",
      "Start Processing water for region TAA\n",
      "Length before remove fountain\n",
      "30993\n",
      "Length AFTER remove fountain\n",
      "30989\n",
      "\n",
      "Processing TAA epatite\n"
     ]
    },
    {
     "name": "stderr",
     "output_type": "stream",
     "text": [
      "C:\\ProgramData\\Anaconda3\\envs\\pyt3_8\\lib\\site-packages\\pyproj\\crs\\crs.py:131: FutureWarning: '+init=<authority>:<code>' syntax is deprecated. '<authority>:<code>' is the preferred initialization method. When making the change, be mindful of axis order changes: https://pyproj4.github.io/pyproj/stable/gotchas.html#axis-order-changes-in-proj-6\n",
      "  in_crs_string = _prepare_from_proj_string(in_crs_string)\n",
      "C:\\Users\\manue\\AppData\\Local\\Temp\\ipykernel_952\\682585845.py:94: UserWarning: this is an initial implementation of Parquet/Feather file support and associated metadata.  This is tracking version 0.1.0 of the metadata specification at https://github.com/geopandas/geo-arrow-spec\n",
      "\n",
      "This metadata specification does not yet make stability promises.  We do not yet recommend using this in a production setting unless you are able to rewrite your Parquet/Feather files.\n",
      "\n",
      "To further ignore this warning, you can do: \n",
      "import warnings; warnings.filterwarnings('ignore', message='.*initial implementation of Parquet.*')\n",
      "  tmp.to_feather(feather_path)\n",
      "C:\\ProgramData\\Anaconda3\\envs\\pyt3_8\\lib\\site-packages\\pyproj\\crs\\crs.py:131: FutureWarning: '+init=<authority>:<code>' syntax is deprecated. '<authority>:<code>' is the preferred initialization method. When making the change, be mindful of axis order changes: https://pyproj4.github.io/pyproj/stable/gotchas.html#axis-order-changes-in-proj-6\n",
      "  in_crs_string = _prepare_from_proj_string(in_crs_string)\n"
     ]
    },
    {
     "name": "stdout",
     "output_type": "stream",
     "text": [
      "\n",
      "Processing TAA leishmania\n"
     ]
    },
    {
     "name": "stderr",
     "output_type": "stream",
     "text": [
      "C:\\Users\\manue\\AppData\\Local\\Temp\\ipykernel_952\\682585845.py:94: UserWarning: this is an initial implementation of Parquet/Feather file support and associated metadata.  This is tracking version 0.1.0 of the metadata specification at https://github.com/geopandas/geo-arrow-spec\n",
      "\n",
      "This metadata specification does not yet make stability promises.  We do not yet recommend using this in a production setting unless you are able to rewrite your Parquet/Feather files.\n",
      "\n",
      "To further ignore this warning, you can do: \n",
      "import warnings; warnings.filterwarnings('ignore', message='.*initial implementation of Parquet.*')\n",
      "  tmp.to_feather(feather_path)\n",
      "C:\\ProgramData\\Anaconda3\\envs\\pyt3_8\\lib\\site-packages\\pyproj\\crs\\crs.py:131: FutureWarning: '+init=<authority>:<code>' syntax is deprecated. '<authority>:<code>' is the preferred initialization method. When making the change, be mindful of axis order changes: https://pyproj4.github.io/pyproj/stable/gotchas.html#axis-order-changes-in-proj-6\n",
      "  in_crs_string = _prepare_from_proj_string(in_crs_string)\n"
     ]
    },
    {
     "name": "stdout",
     "output_type": "stream",
     "text": [
      "\n",
      "Processing TAA leptospira\n",
      "\n",
      "Processing TAA salmonella\n"
     ]
    },
    {
     "name": "stderr",
     "output_type": "stream",
     "text": [
      "C:\\Users\\manue\\AppData\\Local\\Temp\\ipykernel_952\\682585845.py:94: UserWarning: this is an initial implementation of Parquet/Feather file support and associated metadata.  This is tracking version 0.1.0 of the metadata specification at https://github.com/geopandas/geo-arrow-spec\n",
      "\n",
      "This metadata specification does not yet make stability promises.  We do not yet recommend using this in a production setting unless you are able to rewrite your Parquet/Feather files.\n",
      "\n",
      "To further ignore this warning, you can do: \n",
      "import warnings; warnings.filterwarnings('ignore', message='.*initial implementation of Parquet.*')\n",
      "  tmp.to_feather(feather_path)\n"
     ]
    },
    {
     "name": "stdout",
     "output_type": "stream",
     "text": [
      "\n",
      "Start Processing water for region Sardegna\n",
      "Length before remove fountain\n",
      "31698\n",
      "Length AFTER remove fountain\n",
      "31682\n",
      "\n",
      "Processing Sardegna epatite\n"
     ]
    },
    {
     "name": "stderr",
     "output_type": "stream",
     "text": [
      "C:\\ProgramData\\Anaconda3\\envs\\pyt3_8\\lib\\site-packages\\pyproj\\crs\\crs.py:131: FutureWarning: '+init=<authority>:<code>' syntax is deprecated. '<authority>:<code>' is the preferred initialization method. When making the change, be mindful of axis order changes: https://pyproj4.github.io/pyproj/stable/gotchas.html#axis-order-changes-in-proj-6\n",
      "  in_crs_string = _prepare_from_proj_string(in_crs_string)\n",
      "C:\\Users\\manue\\AppData\\Local\\Temp\\ipykernel_952\\682585845.py:94: UserWarning: this is an initial implementation of Parquet/Feather file support and associated metadata.  This is tracking version 0.1.0 of the metadata specification at https://github.com/geopandas/geo-arrow-spec\n",
      "\n",
      "This metadata specification does not yet make stability promises.  We do not yet recommend using this in a production setting unless you are able to rewrite your Parquet/Feather files.\n",
      "\n",
      "To further ignore this warning, you can do: \n",
      "import warnings; warnings.filterwarnings('ignore', message='.*initial implementation of Parquet.*')\n",
      "  tmp.to_feather(feather_path)\n",
      "C:\\ProgramData\\Anaconda3\\envs\\pyt3_8\\lib\\site-packages\\pyproj\\crs\\crs.py:131: FutureWarning: '+init=<authority>:<code>' syntax is deprecated. '<authority>:<code>' is the preferred initialization method. When making the change, be mindful of axis order changes: https://pyproj4.github.io/pyproj/stable/gotchas.html#axis-order-changes-in-proj-6\n",
      "  in_crs_string = _prepare_from_proj_string(in_crs_string)\n"
     ]
    },
    {
     "name": "stdout",
     "output_type": "stream",
     "text": [
      "\n",
      "Processing Sardegna leishmania\n"
     ]
    },
    {
     "name": "stderr",
     "output_type": "stream",
     "text": [
      "C:\\Users\\manue\\AppData\\Local\\Temp\\ipykernel_952\\682585845.py:94: UserWarning: this is an initial implementation of Parquet/Feather file support and associated metadata.  This is tracking version 0.1.0 of the metadata specification at https://github.com/geopandas/geo-arrow-spec\n",
      "\n",
      "This metadata specification does not yet make stability promises.  We do not yet recommend using this in a production setting unless you are able to rewrite your Parquet/Feather files.\n",
      "\n",
      "To further ignore this warning, you can do: \n",
      "import warnings; warnings.filterwarnings('ignore', message='.*initial implementation of Parquet.*')\n",
      "  tmp.to_feather(feather_path)\n",
      "C:\\ProgramData\\Anaconda3\\envs\\pyt3_8\\lib\\site-packages\\pyproj\\crs\\crs.py:131: FutureWarning: '+init=<authority>:<code>' syntax is deprecated. '<authority>:<code>' is the preferred initialization method. When making the change, be mindful of axis order changes: https://pyproj4.github.io/pyproj/stable/gotchas.html#axis-order-changes-in-proj-6\n",
      "  in_crs_string = _prepare_from_proj_string(in_crs_string)\n"
     ]
    },
    {
     "name": "stdout",
     "output_type": "stream",
     "text": [
      "\n",
      "Processing Sardegna leptospira\n",
      "\n",
      "Processing Sardegna salmonella\n"
     ]
    },
    {
     "name": "stderr",
     "output_type": "stream",
     "text": [
      "C:\\Users\\manue\\AppData\\Local\\Temp\\ipykernel_952\\682585845.py:94: UserWarning: this is an initial implementation of Parquet/Feather file support and associated metadata.  This is tracking version 0.1.0 of the metadata specification at https://github.com/geopandas/geo-arrow-spec\n",
      "\n",
      "This metadata specification does not yet make stability promises.  We do not yet recommend using this in a production setting unless you are able to rewrite your Parquet/Feather files.\n",
      "\n",
      "To further ignore this warning, you can do: \n",
      "import warnings; warnings.filterwarnings('ignore', message='.*initial implementation of Parquet.*')\n",
      "  tmp.to_feather(feather_path)\n"
     ]
    },
    {
     "name": "stdout",
     "output_type": "stream",
     "text": [
      "\n",
      "Start Processing water for region Molise\n",
      "Length before remove fountain\n",
      "847\n",
      "Length AFTER remove fountain\n",
      "843\n",
      "\n",
      "Processing Molise epatite\n"
     ]
    },
    {
     "name": "stderr",
     "output_type": "stream",
     "text": [
      "C:\\ProgramData\\Anaconda3\\envs\\pyt3_8\\lib\\site-packages\\pyproj\\crs\\crs.py:131: FutureWarning: '+init=<authority>:<code>' syntax is deprecated. '<authority>:<code>' is the preferred initialization method. When making the change, be mindful of axis order changes: https://pyproj4.github.io/pyproj/stable/gotchas.html#axis-order-changes-in-proj-6\n",
      "  in_crs_string = _prepare_from_proj_string(in_crs_string)\n",
      "C:\\Users\\manue\\AppData\\Local\\Temp\\ipykernel_952\\682585845.py:94: UserWarning: this is an initial implementation of Parquet/Feather file support and associated metadata.  This is tracking version 0.1.0 of the metadata specification at https://github.com/geopandas/geo-arrow-spec\n",
      "\n",
      "This metadata specification does not yet make stability promises.  We do not yet recommend using this in a production setting unless you are able to rewrite your Parquet/Feather files.\n",
      "\n",
      "To further ignore this warning, you can do: \n",
      "import warnings; warnings.filterwarnings('ignore', message='.*initial implementation of Parquet.*')\n",
      "  tmp.to_feather(feather_path)\n",
      "C:\\ProgramData\\Anaconda3\\envs\\pyt3_8\\lib\\site-packages\\pyproj\\crs\\crs.py:131: FutureWarning: '+init=<authority>:<code>' syntax is deprecated. '<authority>:<code>' is the preferred initialization method. When making the change, be mindful of axis order changes: https://pyproj4.github.io/pyproj/stable/gotchas.html#axis-order-changes-in-proj-6\n",
      "  in_crs_string = _prepare_from_proj_string(in_crs_string)\n",
      "C:\\Users\\manue\\AppData\\Local\\Temp\\ipykernel_952\\682585845.py:94: UserWarning: this is an initial implementation of Parquet/Feather file support and associated metadata.  This is tracking version 0.1.0 of the metadata specification at https://github.com/geopandas/geo-arrow-spec\n",
      "\n",
      "This metadata specification does not yet make stability promises.  We do not yet recommend using this in a production setting unless you are able to rewrite your Parquet/Feather files.\n",
      "\n",
      "To further ignore this warning, you can do: \n",
      "import warnings; warnings.filterwarnings('ignore', message='.*initial implementation of Parquet.*')\n",
      "  tmp.to_feather(feather_path)\n",
      "C:\\ProgramData\\Anaconda3\\envs\\pyt3_8\\lib\\site-packages\\pyproj\\crs\\crs.py:131: FutureWarning: '+init=<authority>:<code>' syntax is deprecated. '<authority>:<code>' is the preferred initialization method. When making the change, be mindful of axis order changes: https://pyproj4.github.io/pyproj/stable/gotchas.html#axis-order-changes-in-proj-6\n",
      "  in_crs_string = _prepare_from_proj_string(in_crs_string)\n"
     ]
    },
    {
     "name": "stdout",
     "output_type": "stream",
     "text": [
      "\n",
      "Processing Molise leishmania\n",
      "\n",
      "Processing Molise leptospira\n"
     ]
    },
    {
     "name": "stderr",
     "output_type": "stream",
     "text": [
      "C:\\Users\\manue\\AppData\\Local\\Temp\\ipykernel_952\\682585845.py:94: UserWarning: this is an initial implementation of Parquet/Feather file support and associated metadata.  This is tracking version 0.1.0 of the metadata specification at https://github.com/geopandas/geo-arrow-spec\n",
      "\n",
      "This metadata specification does not yet make stability promises.  We do not yet recommend using this in a production setting unless you are able to rewrite your Parquet/Feather files.\n",
      "\n",
      "To further ignore this warning, you can do: \n",
      "import warnings; warnings.filterwarnings('ignore', message='.*initial implementation of Parquet.*')\n",
      "  tmp.to_feather(feather_path)\n",
      "C:\\ProgramData\\Anaconda3\\envs\\pyt3_8\\lib\\site-packages\\pyproj\\crs\\crs.py:131: FutureWarning: '+init=<authority>:<code>' syntax is deprecated. '<authority>:<code>' is the preferred initialization method. When making the change, be mindful of axis order changes: https://pyproj4.github.io/pyproj/stable/gotchas.html#axis-order-changes-in-proj-6\n",
      "  in_crs_string = _prepare_from_proj_string(in_crs_string)\n",
      "C:\\Users\\manue\\AppData\\Local\\Temp\\ipykernel_952\\682585845.py:94: UserWarning: this is an initial implementation of Parquet/Feather file support and associated metadata.  This is tracking version 0.1.0 of the metadata specification at https://github.com/geopandas/geo-arrow-spec\n",
      "\n",
      "This metadata specification does not yet make stability promises.  We do not yet recommend using this in a production setting unless you are able to rewrite your Parquet/Feather files.\n",
      "\n",
      "To further ignore this warning, you can do: \n",
      "import warnings; warnings.filterwarnings('ignore', message='.*initial implementation of Parquet.*')\n",
      "  tmp.to_feather(feather_path)\n"
     ]
    },
    {
     "name": "stdout",
     "output_type": "stream",
     "text": [
      "\n",
      "Processing Molise salmonella\n",
      "\n",
      "Start Processing water for region Calabria\n",
      "Length before remove fountain\n",
      "2974\n",
      "Length AFTER remove fountain\n",
      "2970\n",
      "\n",
      "Processing Calabria epatite\n",
      "\n",
      "Processing Calabria leishmania\n",
      "\n",
      "Processing Calabria leptospira\n",
      "\n",
      "Processing Calabria salmonella\n"
     ]
    },
    {
     "name": "stderr",
     "output_type": "stream",
     "text": [
      "C:\\ProgramData\\Anaconda3\\envs\\pyt3_8\\lib\\site-packages\\pyproj\\crs\\crs.py:131: FutureWarning: '+init=<authority>:<code>' syntax is deprecated. '<authority>:<code>' is the preferred initialization method. When making the change, be mindful of axis order changes: https://pyproj4.github.io/pyproj/stable/gotchas.html#axis-order-changes-in-proj-6\n",
      "  in_crs_string = _prepare_from_proj_string(in_crs_string)\n",
      "C:\\Users\\manue\\AppData\\Local\\Temp\\ipykernel_952\\682585845.py:94: UserWarning: this is an initial implementation of Parquet/Feather file support and associated metadata.  This is tracking version 0.1.0 of the metadata specification at https://github.com/geopandas/geo-arrow-spec\n",
      "\n",
      "This metadata specification does not yet make stability promises.  We do not yet recommend using this in a production setting unless you are able to rewrite your Parquet/Feather files.\n",
      "\n",
      "To further ignore this warning, you can do: \n",
      "import warnings; warnings.filterwarnings('ignore', message='.*initial implementation of Parquet.*')\n",
      "  tmp.to_feather(feather_path)\n",
      "C:\\ProgramData\\Anaconda3\\envs\\pyt3_8\\lib\\site-packages\\pyproj\\crs\\crs.py:131: FutureWarning: '+init=<authority>:<code>' syntax is deprecated. '<authority>:<code>' is the preferred initialization method. When making the change, be mindful of axis order changes: https://pyproj4.github.io/pyproj/stable/gotchas.html#axis-order-changes-in-proj-6\n",
      "  in_crs_string = _prepare_from_proj_string(in_crs_string)\n",
      "C:\\Users\\manue\\AppData\\Local\\Temp\\ipykernel_952\\682585845.py:94: UserWarning: this is an initial implementation of Parquet/Feather file support and associated metadata.  This is tracking version 0.1.0 of the metadata specification at https://github.com/geopandas/geo-arrow-spec\n",
      "\n",
      "This metadata specification does not yet make stability promises.  We do not yet recommend using this in a production setting unless you are able to rewrite your Parquet/Feather files.\n",
      "\n",
      "To further ignore this warning, you can do: \n",
      "import warnings; warnings.filterwarnings('ignore', message='.*initial implementation of Parquet.*')\n",
      "  tmp.to_feather(feather_path)\n"
     ]
    },
    {
     "name": "stdout",
     "output_type": "stream",
     "text": [
      "\n",
      "Start Processing water for region Lazio\n",
      "Length before remove fountain\n",
      "7031\n",
      "Length AFTER remove fountain\n",
      "6793\n",
      "\n",
      "Processing Lazio epatite\n",
      "\n",
      "Processing Lazio leishmania\n"
     ]
    },
    {
     "name": "stderr",
     "output_type": "stream",
     "text": [
      "C:\\ProgramData\\Anaconda3\\envs\\pyt3_8\\lib\\site-packages\\pyproj\\crs\\crs.py:131: FutureWarning: '+init=<authority>:<code>' syntax is deprecated. '<authority>:<code>' is the preferred initialization method. When making the change, be mindful of axis order changes: https://pyproj4.github.io/pyproj/stable/gotchas.html#axis-order-changes-in-proj-6\n",
      "  in_crs_string = _prepare_from_proj_string(in_crs_string)\n",
      "C:\\Users\\manue\\AppData\\Local\\Temp\\ipykernel_952\\682585845.py:94: UserWarning: this is an initial implementation of Parquet/Feather file support and associated metadata.  This is tracking version 0.1.0 of the metadata specification at https://github.com/geopandas/geo-arrow-spec\n",
      "\n",
      "This metadata specification does not yet make stability promises.  We do not yet recommend using this in a production setting unless you are able to rewrite your Parquet/Feather files.\n",
      "\n",
      "To further ignore this warning, you can do: \n",
      "import warnings; warnings.filterwarnings('ignore', message='.*initial implementation of Parquet.*')\n",
      "  tmp.to_feather(feather_path)\n",
      "C:\\ProgramData\\Anaconda3\\envs\\pyt3_8\\lib\\site-packages\\pyproj\\crs\\crs.py:131: FutureWarning: '+init=<authority>:<code>' syntax is deprecated. '<authority>:<code>' is the preferred initialization method. When making the change, be mindful of axis order changes: https://pyproj4.github.io/pyproj/stable/gotchas.html#axis-order-changes-in-proj-6\n",
      "  in_crs_string = _prepare_from_proj_string(in_crs_string)\n",
      "C:\\Users\\manue\\AppData\\Local\\Temp\\ipykernel_952\\682585845.py:94: UserWarning: this is an initial implementation of Parquet/Feather file support and associated metadata.  This is tracking version 0.1.0 of the metadata specification at https://github.com/geopandas/geo-arrow-spec\n",
      "\n",
      "This metadata specification does not yet make stability promises.  We do not yet recommend using this in a production setting unless you are able to rewrite your Parquet/Feather files.\n",
      "\n",
      "To further ignore this warning, you can do: \n",
      "import warnings; warnings.filterwarnings('ignore', message='.*initial implementation of Parquet.*')\n",
      "  tmp.to_feather(feather_path)\n",
      "C:\\ProgramData\\Anaconda3\\envs\\pyt3_8\\lib\\site-packages\\pyproj\\crs\\crs.py:131: FutureWarning: '+init=<authority>:<code>' syntax is deprecated. '<authority>:<code>' is the preferred initialization method. When making the change, be mindful of axis order changes: https://pyproj4.github.io/pyproj/stable/gotchas.html#axis-order-changes-in-proj-6\n",
      "  in_crs_string = _prepare_from_proj_string(in_crs_string)\n"
     ]
    },
    {
     "name": "stdout",
     "output_type": "stream",
     "text": [
      "\n",
      "Processing Lazio leptospira\n",
      "\n",
      "Processing Lazio salmonella\n"
     ]
    },
    {
     "name": "stderr",
     "output_type": "stream",
     "text": [
      "C:\\Users\\manue\\AppData\\Local\\Temp\\ipykernel_952\\682585845.py:94: UserWarning: this is an initial implementation of Parquet/Feather file support and associated metadata.  This is tracking version 0.1.0 of the metadata specification at https://github.com/geopandas/geo-arrow-spec\n",
      "\n",
      "This metadata specification does not yet make stability promises.  We do not yet recommend using this in a production setting unless you are able to rewrite your Parquet/Feather files.\n",
      "\n",
      "To further ignore this warning, you can do: \n",
      "import warnings; warnings.filterwarnings('ignore', message='.*initial implementation of Parquet.*')\n",
      "  tmp.to_feather(feather_path)\n"
     ]
    },
    {
     "name": "stdout",
     "output_type": "stream",
     "text": [
      "\n",
      "Start Processing water for region FVG\n",
      "Length before remove fountain\n",
      "15134\n",
      "Length AFTER remove fountain\n",
      "15133\n",
      "\n",
      "Processing FVG epatite\n",
      "\n",
      "Processing FVG leishmania\n"
     ]
    },
    {
     "name": "stderr",
     "output_type": "stream",
     "text": [
      "C:\\ProgramData\\Anaconda3\\envs\\pyt3_8\\lib\\site-packages\\pyproj\\crs\\crs.py:131: FutureWarning: '+init=<authority>:<code>' syntax is deprecated. '<authority>:<code>' is the preferred initialization method. When making the change, be mindful of axis order changes: https://pyproj4.github.io/pyproj/stable/gotchas.html#axis-order-changes-in-proj-6\n",
      "  in_crs_string = _prepare_from_proj_string(in_crs_string)\n",
      "C:\\Users\\manue\\AppData\\Local\\Temp\\ipykernel_952\\682585845.py:94: UserWarning: this is an initial implementation of Parquet/Feather file support and associated metadata.  This is tracking version 0.1.0 of the metadata specification at https://github.com/geopandas/geo-arrow-spec\n",
      "\n",
      "This metadata specification does not yet make stability promises.  We do not yet recommend using this in a production setting unless you are able to rewrite your Parquet/Feather files.\n",
      "\n",
      "To further ignore this warning, you can do: \n",
      "import warnings; warnings.filterwarnings('ignore', message='.*initial implementation of Parquet.*')\n",
      "  tmp.to_feather(feather_path)\n",
      "C:\\ProgramData\\Anaconda3\\envs\\pyt3_8\\lib\\site-packages\\pyproj\\crs\\crs.py:131: FutureWarning: '+init=<authority>:<code>' syntax is deprecated. '<authority>:<code>' is the preferred initialization method. When making the change, be mindful of axis order changes: https://pyproj4.github.io/pyproj/stable/gotchas.html#axis-order-changes-in-proj-6\n",
      "  in_crs_string = _prepare_from_proj_string(in_crs_string)\n",
      "C:\\Users\\manue\\AppData\\Local\\Temp\\ipykernel_952\\682585845.py:94: UserWarning: this is an initial implementation of Parquet/Feather file support and associated metadata.  This is tracking version 0.1.0 of the metadata specification at https://github.com/geopandas/geo-arrow-spec\n",
      "\n",
      "This metadata specification does not yet make stability promises.  We do not yet recommend using this in a production setting unless you are able to rewrite your Parquet/Feather files.\n",
      "\n",
      "To further ignore this warning, you can do: \n",
      "import warnings; warnings.filterwarnings('ignore', message='.*initial implementation of Parquet.*')\n",
      "  tmp.to_feather(feather_path)\n",
      "C:\\ProgramData\\Anaconda3\\envs\\pyt3_8\\lib\\site-packages\\pyproj\\crs\\crs.py:131: FutureWarning: '+init=<authority>:<code>' syntax is deprecated. '<authority>:<code>' is the preferred initialization method. When making the change, be mindful of axis order changes: https://pyproj4.github.io/pyproj/stable/gotchas.html#axis-order-changes-in-proj-6\n",
      "  in_crs_string = _prepare_from_proj_string(in_crs_string)\n"
     ]
    },
    {
     "name": "stdout",
     "output_type": "stream",
     "text": [
      "\n",
      "Processing FVG leptospira\n",
      "\n",
      "Processing FVG salmonella\n"
     ]
    },
    {
     "name": "stderr",
     "output_type": "stream",
     "text": [
      "C:\\Users\\manue\\AppData\\Local\\Temp\\ipykernel_952\\682585845.py:94: UserWarning: this is an initial implementation of Parquet/Feather file support and associated metadata.  This is tracking version 0.1.0 of the metadata specification at https://github.com/geopandas/geo-arrow-spec\n",
      "\n",
      "This metadata specification does not yet make stability promises.  We do not yet recommend using this in a production setting unless you are able to rewrite your Parquet/Feather files.\n",
      "\n",
      "To further ignore this warning, you can do: \n",
      "import warnings; warnings.filterwarnings('ignore', message='.*initial implementation of Parquet.*')\n",
      "  tmp.to_feather(feather_path)\n"
     ]
    },
    {
     "name": "stdout",
     "output_type": "stream",
     "text": [
      "\n",
      "Start Processing water for region Basilicata\n",
      "Length before remove fountain\n",
      "6989\n",
      "\n",
      "Processing Basilicata epatite\n",
      "\n",
      "Processing Basilicata leishmania\n",
      "\n",
      "Processing Basilicata leptospira\n",
      "\n",
      "Processing Basilicata salmonella\n"
     ]
    },
    {
     "name": "stderr",
     "output_type": "stream",
     "text": [
      "C:\\ProgramData\\Anaconda3\\envs\\pyt3_8\\lib\\site-packages\\pyproj\\crs\\crs.py:131: FutureWarning: '+init=<authority>:<code>' syntax is deprecated. '<authority>:<code>' is the preferred initialization method. When making the change, be mindful of axis order changes: https://pyproj4.github.io/pyproj/stable/gotchas.html#axis-order-changes-in-proj-6\n",
      "  in_crs_string = _prepare_from_proj_string(in_crs_string)\n",
      "C:\\Users\\manue\\AppData\\Local\\Temp\\ipykernel_952\\682585845.py:94: UserWarning: this is an initial implementation of Parquet/Feather file support and associated metadata.  This is tracking version 0.1.0 of the metadata specification at https://github.com/geopandas/geo-arrow-spec\n",
      "\n",
      "This metadata specification does not yet make stability promises.  We do not yet recommend using this in a production setting unless you are able to rewrite your Parquet/Feather files.\n",
      "\n",
      "To further ignore this warning, you can do: \n",
      "import warnings; warnings.filterwarnings('ignore', message='.*initial implementation of Parquet.*')\n",
      "  tmp.to_feather(feather_path)\n"
     ]
    },
    {
     "name": "stdout",
     "output_type": "stream",
     "text": [
      "\n",
      "Start Processing water for region Umbria\n",
      "Length before remove fountain\n",
      "2480\n",
      "Length AFTER remove fountain\n",
      "2473\n",
      "\n",
      "Processing Umbria epatite\n",
      "\n",
      "Processing Umbria leishmania\n",
      "\n",
      "Processing Umbria leptospira\n"
     ]
    },
    {
     "name": "stderr",
     "output_type": "stream",
     "text": [
      "C:\\ProgramData\\Anaconda3\\envs\\pyt3_8\\lib\\site-packages\\pyproj\\crs\\crs.py:131: FutureWarning: '+init=<authority>:<code>' syntax is deprecated. '<authority>:<code>' is the preferred initialization method. When making the change, be mindful of axis order changes: https://pyproj4.github.io/pyproj/stable/gotchas.html#axis-order-changes-in-proj-6\n",
      "  in_crs_string = _prepare_from_proj_string(in_crs_string)\n",
      "C:\\Users\\manue\\AppData\\Local\\Temp\\ipykernel_952\\682585845.py:94: UserWarning: this is an initial implementation of Parquet/Feather file support and associated metadata.  This is tracking version 0.1.0 of the metadata specification at https://github.com/geopandas/geo-arrow-spec\n",
      "\n",
      "This metadata specification does not yet make stability promises.  We do not yet recommend using this in a production setting unless you are able to rewrite your Parquet/Feather files.\n",
      "\n",
      "To further ignore this warning, you can do: \n",
      "import warnings; warnings.filterwarnings('ignore', message='.*initial implementation of Parquet.*')\n",
      "  tmp.to_feather(feather_path)\n",
      "C:\\ProgramData\\Anaconda3\\envs\\pyt3_8\\lib\\site-packages\\pyproj\\crs\\crs.py:131: FutureWarning: '+init=<authority>:<code>' syntax is deprecated. '<authority>:<code>' is the preferred initialization method. When making the change, be mindful of axis order changes: https://pyproj4.github.io/pyproj/stable/gotchas.html#axis-order-changes-in-proj-6\n",
      "  in_crs_string = _prepare_from_proj_string(in_crs_string)\n",
      "C:\\Users\\manue\\AppData\\Local\\Temp\\ipykernel_952\\682585845.py:94: UserWarning: this is an initial implementation of Parquet/Feather file support and associated metadata.  This is tracking version 0.1.0 of the metadata specification at https://github.com/geopandas/geo-arrow-spec\n",
      "\n",
      "This metadata specification does not yet make stability promises.  We do not yet recommend using this in a production setting unless you are able to rewrite your Parquet/Feather files.\n",
      "\n",
      "To further ignore this warning, you can do: \n",
      "import warnings; warnings.filterwarnings('ignore', message='.*initial implementation of Parquet.*')\n",
      "  tmp.to_feather(feather_path)\n",
      "C:\\ProgramData\\Anaconda3\\envs\\pyt3_8\\lib\\site-packages\\pyproj\\crs\\crs.py:131: FutureWarning: '+init=<authority>:<code>' syntax is deprecated. '<authority>:<code>' is the preferred initialization method. When making the change, be mindful of axis order changes: https://pyproj4.github.io/pyproj/stable/gotchas.html#axis-order-changes-in-proj-6\n",
      "  in_crs_string = _prepare_from_proj_string(in_crs_string)\n"
     ]
    },
    {
     "name": "stdout",
     "output_type": "stream",
     "text": [
      "\n",
      "Processing Umbria salmonella\n"
     ]
    },
    {
     "name": "stderr",
     "output_type": "stream",
     "text": [
      "C:\\Users\\manue\\AppData\\Local\\Temp\\ipykernel_952\\682585845.py:94: UserWarning: this is an initial implementation of Parquet/Feather file support and associated metadata.  This is tracking version 0.1.0 of the metadata specification at https://github.com/geopandas/geo-arrow-spec\n",
      "\n",
      "This metadata specification does not yet make stability promises.  We do not yet recommend using this in a production setting unless you are able to rewrite your Parquet/Feather files.\n",
      "\n",
      "To further ignore this warning, you can do: \n",
      "import warnings; warnings.filterwarnings('ignore', message='.*initial implementation of Parquet.*')\n",
      "  tmp.to_feather(feather_path)\n"
     ]
    },
    {
     "name": "stdout",
     "output_type": "stream",
     "text": [
      "\n",
      "Start Processing water for region Lombardia\n",
      "Length before remove fountain\n",
      "69987\n",
      "Length AFTER remove fountain\n",
      "69985\n",
      "\n",
      "Processing Lombardia epatite\n"
     ]
    },
    {
     "name": "stderr",
     "output_type": "stream",
     "text": [
      "C:\\ProgramData\\Anaconda3\\envs\\pyt3_8\\lib\\site-packages\\pyproj\\crs\\crs.py:131: FutureWarning: '+init=<authority>:<code>' syntax is deprecated. '<authority>:<code>' is the preferred initialization method. When making the change, be mindful of axis order changes: https://pyproj4.github.io/pyproj/stable/gotchas.html#axis-order-changes-in-proj-6\n",
      "  in_crs_string = _prepare_from_proj_string(in_crs_string)\n",
      "C:\\Users\\manue\\AppData\\Local\\Temp\\ipykernel_952\\682585845.py:94: UserWarning: this is an initial implementation of Parquet/Feather file support and associated metadata.  This is tracking version 0.1.0 of the metadata specification at https://github.com/geopandas/geo-arrow-spec\n",
      "\n",
      "This metadata specification does not yet make stability promises.  We do not yet recommend using this in a production setting unless you are able to rewrite your Parquet/Feather files.\n",
      "\n",
      "To further ignore this warning, you can do: \n",
      "import warnings; warnings.filterwarnings('ignore', message='.*initial implementation of Parquet.*')\n",
      "  tmp.to_feather(feather_path)\n"
     ]
    },
    {
     "name": "stdout",
     "output_type": "stream",
     "text": [
      "\n",
      "Processing Lombardia leishmania\n"
     ]
    },
    {
     "name": "stderr",
     "output_type": "stream",
     "text": [
      "C:\\ProgramData\\Anaconda3\\envs\\pyt3_8\\lib\\site-packages\\pyproj\\crs\\crs.py:131: FutureWarning: '+init=<authority>:<code>' syntax is deprecated. '<authority>:<code>' is the preferred initialization method. When making the change, be mindful of axis order changes: https://pyproj4.github.io/pyproj/stable/gotchas.html#axis-order-changes-in-proj-6\n",
      "  in_crs_string = _prepare_from_proj_string(in_crs_string)\n",
      "C:\\Users\\manue\\AppData\\Local\\Temp\\ipykernel_952\\682585845.py:94: UserWarning: this is an initial implementation of Parquet/Feather file support and associated metadata.  This is tracking version 0.1.0 of the metadata specification at https://github.com/geopandas/geo-arrow-spec\n",
      "\n",
      "This metadata specification does not yet make stability promises.  We do not yet recommend using this in a production setting unless you are able to rewrite your Parquet/Feather files.\n",
      "\n",
      "To further ignore this warning, you can do: \n",
      "import warnings; warnings.filterwarnings('ignore', message='.*initial implementation of Parquet.*')\n",
      "  tmp.to_feather(feather_path)\n"
     ]
    },
    {
     "name": "stdout",
     "output_type": "stream",
     "text": [
      "\n",
      "Processing Lombardia leptospira\n"
     ]
    },
    {
     "name": "stderr",
     "output_type": "stream",
     "text": [
      "C:\\ProgramData\\Anaconda3\\envs\\pyt3_8\\lib\\site-packages\\pyproj\\crs\\crs.py:131: FutureWarning: '+init=<authority>:<code>' syntax is deprecated. '<authority>:<code>' is the preferred initialization method. When making the change, be mindful of axis order changes: https://pyproj4.github.io/pyproj/stable/gotchas.html#axis-order-changes-in-proj-6\n",
      "  in_crs_string = _prepare_from_proj_string(in_crs_string)\n",
      "C:\\Users\\manue\\AppData\\Local\\Temp\\ipykernel_952\\682585845.py:94: UserWarning: this is an initial implementation of Parquet/Feather file support and associated metadata.  This is tracking version 0.1.0 of the metadata specification at https://github.com/geopandas/geo-arrow-spec\n",
      "\n",
      "This metadata specification does not yet make stability promises.  We do not yet recommend using this in a production setting unless you are able to rewrite your Parquet/Feather files.\n",
      "\n",
      "To further ignore this warning, you can do: \n",
      "import warnings; warnings.filterwarnings('ignore', message='.*initial implementation of Parquet.*')\n",
      "  tmp.to_feather(feather_path)\n"
     ]
    },
    {
     "name": "stdout",
     "output_type": "stream",
     "text": [
      "\n",
      "Processing Lombardia salmonella\n"
     ]
    },
    {
     "name": "stderr",
     "output_type": "stream",
     "text": [
      "C:\\ProgramData\\Anaconda3\\envs\\pyt3_8\\lib\\site-packages\\pyproj\\crs\\crs.py:131: FutureWarning: '+init=<authority>:<code>' syntax is deprecated. '<authority>:<code>' is the preferred initialization method. When making the change, be mindful of axis order changes: https://pyproj4.github.io/pyproj/stable/gotchas.html#axis-order-changes-in-proj-6\n",
      "  in_crs_string = _prepare_from_proj_string(in_crs_string)\n",
      "C:\\Users\\manue\\AppData\\Local\\Temp\\ipykernel_952\\682585845.py:94: UserWarning: this is an initial implementation of Parquet/Feather file support and associated metadata.  This is tracking version 0.1.0 of the metadata specification at https://github.com/geopandas/geo-arrow-spec\n",
      "\n",
      "This metadata specification does not yet make stability promises.  We do not yet recommend using this in a production setting unless you are able to rewrite your Parquet/Feather files.\n",
      "\n",
      "To further ignore this warning, you can do: \n",
      "import warnings; warnings.filterwarnings('ignore', message='.*initial implementation of Parquet.*')\n",
      "  tmp.to_feather(feather_path)\n"
     ]
    },
    {
     "name": "stdout",
     "output_type": "stream",
     "text": [
      "\n",
      "Start Processing water for region Veneto\n",
      "Length before remove fountain\n",
      "34501\n",
      "Length AFTER remove fountain\n",
      "34500\n",
      "\n",
      "Processing Veneto epatite\n"
     ]
    },
    {
     "name": "stderr",
     "output_type": "stream",
     "text": [
      "C:\\ProgramData\\Anaconda3\\envs\\pyt3_8\\lib\\site-packages\\pyproj\\crs\\crs.py:131: FutureWarning: '+init=<authority>:<code>' syntax is deprecated. '<authority>:<code>' is the preferred initialization method. When making the change, be mindful of axis order changes: https://pyproj4.github.io/pyproj/stable/gotchas.html#axis-order-changes-in-proj-6\n",
      "  in_crs_string = _prepare_from_proj_string(in_crs_string)\n",
      "C:\\Users\\manue\\AppData\\Local\\Temp\\ipykernel_952\\682585845.py:94: UserWarning: this is an initial implementation of Parquet/Feather file support and associated metadata.  This is tracking version 0.1.0 of the metadata specification at https://github.com/geopandas/geo-arrow-spec\n",
      "\n",
      "This metadata specification does not yet make stability promises.  We do not yet recommend using this in a production setting unless you are able to rewrite your Parquet/Feather files.\n",
      "\n",
      "To further ignore this warning, you can do: \n",
      "import warnings; warnings.filterwarnings('ignore', message='.*initial implementation of Parquet.*')\n",
      "  tmp.to_feather(feather_path)\n"
     ]
    },
    {
     "name": "stdout",
     "output_type": "stream",
     "text": [
      "\n",
      "Processing Veneto leishmania\n"
     ]
    },
    {
     "name": "stderr",
     "output_type": "stream",
     "text": [
      "C:\\ProgramData\\Anaconda3\\envs\\pyt3_8\\lib\\site-packages\\pyproj\\crs\\crs.py:131: FutureWarning: '+init=<authority>:<code>' syntax is deprecated. '<authority>:<code>' is the preferred initialization method. When making the change, be mindful of axis order changes: https://pyproj4.github.io/pyproj/stable/gotchas.html#axis-order-changes-in-proj-6\n",
      "  in_crs_string = _prepare_from_proj_string(in_crs_string)\n",
      "C:\\Users\\manue\\AppData\\Local\\Temp\\ipykernel_952\\682585845.py:94: UserWarning: this is an initial implementation of Parquet/Feather file support and associated metadata.  This is tracking version 0.1.0 of the metadata specification at https://github.com/geopandas/geo-arrow-spec\n",
      "\n",
      "This metadata specification does not yet make stability promises.  We do not yet recommend using this in a production setting unless you are able to rewrite your Parquet/Feather files.\n",
      "\n",
      "To further ignore this warning, you can do: \n",
      "import warnings; warnings.filterwarnings('ignore', message='.*initial implementation of Parquet.*')\n",
      "  tmp.to_feather(feather_path)\n"
     ]
    },
    {
     "name": "stdout",
     "output_type": "stream",
     "text": [
      "\n",
      "Processing Veneto leptospira\n",
      "\n",
      "Processing Veneto salmonella\n"
     ]
    },
    {
     "name": "stderr",
     "output_type": "stream",
     "text": [
      "C:\\ProgramData\\Anaconda3\\envs\\pyt3_8\\lib\\site-packages\\pyproj\\crs\\crs.py:131: FutureWarning: '+init=<authority>:<code>' syntax is deprecated. '<authority>:<code>' is the preferred initialization method. When making the change, be mindful of axis order changes: https://pyproj4.github.io/pyproj/stable/gotchas.html#axis-order-changes-in-proj-6\n",
      "  in_crs_string = _prepare_from_proj_string(in_crs_string)\n",
      "C:\\Users\\manue\\AppData\\Local\\Temp\\ipykernel_952\\682585845.py:94: UserWarning: this is an initial implementation of Parquet/Feather file support and associated metadata.  This is tracking version 0.1.0 of the metadata specification at https://github.com/geopandas/geo-arrow-spec\n",
      "\n",
      "This metadata specification does not yet make stability promises.  We do not yet recommend using this in a production setting unless you are able to rewrite your Parquet/Feather files.\n",
      "\n",
      "To further ignore this warning, you can do: \n",
      "import warnings; warnings.filterwarnings('ignore', message='.*initial implementation of Parquet.*')\n",
      "  tmp.to_feather(feather_path)\n"
     ]
    }
   ],
   "source": [
    "for region in target_region:\n",
    "    #STEP 1\n",
    "    water_file_name = region + \"riverLakeUnion\"\n",
    "    print(\"\\nStart Processing water for region \" + region)\n",
    "    \n",
    "    #retrive geometry from gpkg files (water sources files)\n",
    "    water_layer_full = gpd.read_file(water_folder + water_file_name + \".gpkg\", layer=water_file_name)\n",
    "    print(\"Length before remove fountain\")\n",
    "    print(len(water_layer_full))\n",
    "    \n",
    "    #reduce gpkg to usefull columns only\n",
    "    if 'amenity' in water_layer_full.columns:\n",
    "        water_layer = water_layer_full[['osm_id','osm_type','waterway','name','osm_id_2','osm_type_2','amenity','name_2','geometry']]\n",
    "    else:\n",
    "        water_layer = water_layer_full[['osm_id','osm_type','waterway','name','osm_id_2','osm_type_2','name_2','geometry']]\n",
    "        \n",
    "    if 'amenity' in water_layer.columns:\n",
    "        fountain_row_idx = water_layer.index[water_layer['amenity']=='fountain'].tolist()\n",
    "        water_layer = water_layer.drop(fountain_row_idx).reset_index()\n",
    "        print(\"Length AFTER remove fountain\")\n",
    "        print(len(water_layer))\n",
    "        \n",
    "    # this creates and also provides us access to the spatial index\n",
    "    water_layer.sindex\n",
    "        \n",
    "    for disease in diseases:\n",
    "        print(\"\\nProcessing \" + region + \" \" + disease)    \n",
    "        num_files = 1\n",
    "        if os.path.exists(water_folder + water_file_name + \".gpkg\"):\n",
    "            \n",
    "            if region in splitted_regions and disease in splitted_diseases:\n",
    "                num_files = region_n_files[region]\n",
    "            \n",
    "            #STEP 2 \n",
    "            for i in range(num_files):\n",
    "            #for i in range(7,8,1):    \n",
    "                #retrive geometry of points from csv files (files with geocode_address)\n",
    "                addresses_file = region + \"/\" \n",
    "                if region in splitted_regions and disease in splitted_diseases:\n",
    "                    addresses_file = addresses_file + 'split/'\n",
    "                addresses_file = addresses_file + address_file_prefix + \"_\" + region + \"_\" + disease + \"_output\" \n",
    "                if region in splitted_regions and disease in splitted_diseases:\n",
    "                    addresses_file = addresses_file + str(i+1)\n",
    "                addresses_file = addresses_file + \".csv\"\n",
    "                \n",
    "                if os.path.exists(addresses_file):\n",
    "                    adresses_df = pd.read_csv(addresses_file)\n",
    "                    if len(adresses_df)>0:\n",
    "                        adresses_df = add_complete_geocode_address(adresses_df)\n",
    "                        \n",
    "                        gdf_addr = gpd.GeoDataFrame(\n",
    "                            adresses_df, crs={'init': 'epsg:4326'},\n",
    "                            geometry=[Point(xy) for xy in zip(adresses_df.longitude, adresses_df.latitude)])\n",
    "                        \n",
    "                        #STEP 3\n",
    "                        hits = create_address_bounding_box(gdf_addr, water_layer, bounding_box_km_offset)\n",
    "                        #remove lines from series with no water source in selected bounding box\n",
    "                        hits = hits[hits.map(lambda d: len(d)) > 0]\n",
    "                        \n",
    "                        if hits.size>0:\n",
    "                            tmp = pd.DataFrame({\n",
    "                                \"pt_address_idx\": np.repeat(hits.index, hits.apply(len)),\n",
    "                                \"water_i\": np.concatenate(hits.values)\n",
    "                            })\n",
    "\n",
    "                            #join water info\n",
    "                            tmp = tmp.join(water_layer.reset_index(drop=True), on=\"water_i\")\n",
    "                            #join address geometry (point)\n",
    "                            tmp = tmp.join(gdf_addr.geometry.rename(\"point\"), on=\"pt_address_idx\")\n",
    "                            #join info on string address\n",
    "                            tmp = tmp.join(gdf_addr.geocode_address, on =\"pt_address_idx\")\n",
    "\n",
    "                            # Convert back to a GeoDataFrame, so we can do spatial operations\n",
    "                            tmp = GeoDataFrame(tmp, geometry=\"geometry\", crs=gdf_addr.crs)\n",
    "                            \n",
    "                            #STEP 4\n",
    "                            #calculate distances\n",
    "                            utm = tmp.estimate_utm_crs()\n",
    "                            tmp[\"meters_dist\"] = tmp.to_crs(utm).distance(GeoSeries(tmp.point).to_crs(utm))\n",
    "\n",
    "                            #Check if directory exists, if not, create it\n",
    "                            CHECK_FOLDER = os.path.isdir(folder_distance)\n",
    "                            if not CHECK_FOLDER:\n",
    "                                os.makedirs(folder_distance)\n",
    "                            \n",
    "                            #save results in  feather \n",
    "                            feather_path = folder_distance + \"/\" + region + \"_\" + disease + \"_water_dist\"\n",
    "                            #csv_path = folder_distance + \"/\" + region + \"_\" + disease + \"_water_dist\"\n",
    "                            if region in splitted_regions and disease in splitted_diseases:\n",
    "                                feather_path = feather_path + str(i+1)\n",
    "                                #csv_path = csv_path + str(i+1)\n",
    "                            #csv_path = csv_path + \".csv\"\n",
    "                            \n",
    "                            tmp.to_feather(feather_path)\n",
    "                            #tmp.to_csv(csv_path, index=False)\n",
    "                        else:\n",
    "                            print(\"ATTENTION for \" + region + \" \" + disease + \" there are no water source in bounding box of ray \" + \n",
    "                                str(bounding_box_km_offset) + \" km\\n So related water distance file is not created!\")\n"
   ]
  },
  {
   "cell_type": "code",
   "execution_count": 23,
   "metadata": {},
   "outputs": [],
   "source": [
    "bb_km_str = str(bounding_box_km_offset)\n",
    "bb_km_str = bb_km_str.replace(\".\", \"_\")\n",
    "json_output_filename = \"distances_features_\" + bb_km_str + \".json\"\n",
    "\n",
    "addr_dict = {}\n",
    "    \n",
    "file_exists = os.path.exists(json_output_filename)\n",
    "if file_exists:\n",
    "    with open(json_output_filename, \"r\") as json_file:\n",
    "        geo_dict_obj = jsonpickle.decode(json_file.read())            \n",
    "        addr_dict = geo_dict_obj.features_dict                                 \n",
    "try:\n",
    "    for region in target_region:\n",
    "        for disease in diseases:\n",
    "            num_files = 1\n",
    "            if region in splitted_regions and disease in splitted_diseases:\n",
    "                num_files = region_n_files[region]\n",
    "            \n",
    "            for i in range(num_files):\n",
    "                distance_to_water_file = folder_distance + \"/\" + region + \"_\" + disease + \"_\" + \"water_dist\"\n",
    "                if region in splitted_regions and disease in splitted_diseases:\n",
    "                    distance_to_water_file = distance_to_water_file + str(i+1)\n",
    "                \n",
    "                if os.path.exists(distance_to_water_file):\n",
    "                    df_water = pd.read_feather(distance_to_water_file)\n",
    "                    #check_start = df_water.loc[df_water['geocode_address'] == 'LOC.PRACCIA 16,15010,MORBELLO,AL,Italia', 'pt_address_idx']\n",
    "                    #print(check_start)\n",
    "                    #df_water.to_csv(region + \"_\" + disease + \"_starting_from.csv\", index=False)\n",
    "                    \n",
    "                    #group by address\n",
    "                    counting = df_water.groupby(['pt_address_idx']).size().reset_index(name='counts')\n",
    "                    #check_count = counting.loc[counting['pt_address_idx'] == 12068, 'counts']\n",
    "                    #print(check_count)\n",
    "                    #counting.to_csv(region + \"_\" + disease + \"_counting.csv\", index=False)\n",
    "                    \n",
    "                    # Sort on ascending snap distance, so that closest goes to top\n",
    "                    sorted = df_water.sort_values(by=[\"meters_dist\"])\n",
    "                    #check_sorted_idx = sorted.loc[sorted['geocode_address'] == 'LOC.PRACCIA 16,15010,MORBELLO,AL,Italia', 'pt_address_idx']\n",
    "                    #print(check_sorted_idx)\n",
    "                    #check_sorted_meters = sorted.loc[sorted['geocode_address'] == 'LOC.PRACCIA 16,15010,MORBELLO,AL,Italia', 'meters_dist']\n",
    "                    #print(check_sorted_meters)\n",
    "                    #print(df_water.loc[df_water['pt_address_idx'] == 5, 'meters_dist'])\n",
    "                    #sorted.to_csv(region + \"_\" + disease + \"_sorted.csv\", index=False)\n",
    "                    \n",
    "                    #STEP 5\n",
    "                    #water source at min distance\n",
    "                    closest = sorted.groupby(\"pt_address_idx\").first()\n",
    "                    #check_closest = closest.loc[closest['geocode_address'] == 'LOC.PRACCIA 16,15010,MORBELLO,AL,Italia']\n",
    "                    #print(check_closest)\n",
    "                    #closest.to_csv(region + \"_\" + disease + \"_closest.csv\", index=False)\n",
    "                    \n",
    "                    #STEP 6\n",
    "                    closest_count = closest.join(counting.set_index('pt_address_idx'), on=\"pt_address_idx\")\n",
    "                    #check_closest_count = closest_count.loc[closest_count['geocode_address'] == 'LOC.PRACCIA 16,15010,MORBELLO,AL,Italia', 'counts']\n",
    "                    #print(check_closest_count)\n",
    "                    #closest_count.to_csv(region + \"_\" + disease + \"_closest_end.csv\", index=False)\n",
    "                    #get number of water source\n",
    "                    #counting = df_water.groupby(\"pt_address_idx\").size() \n",
    "                    \n",
    "                    #print(counting.head(7))\n",
    "                    #closest.to_csv(region + \"_\" + disease + \"_counting.csv\", index=False)\n",
    "                    \n",
    "                    #closest = closest.join(counting, on =\"pt_address_idx\")\n",
    "                    #closest.to_csv(region + \"_\" + disease + \"_closest_final.csv\", index=False)\n",
    "\n",
    "                    addr_dict = create_feature_dict(addr_dict, closest_count)\n",
    "except Exception as e:\n",
    "    print('Exception during create features')\n",
    "    print(e)\n",
    "finally:\n",
    "    out_dict = DictDistFeatures(addr_dict)        \n",
    "        \n",
    "    with open(json_output_filename, 'w') as file:\n",
    "        out_dict_jason = jsonpickle.encode(out_dict)\n",
    "        file.write(out_dict_jason)\n"
   ]
  },
  {
   "cell_type": "markdown",
   "metadata": {},
   "source": [
    "Following step is for add to the dataset latitude, longitude and distance feature."
   ]
  },
  {
   "cell_type": "code",
   "execution_count": 2,
   "metadata": {},
   "outputs": [],
   "source": [
    "bb_km_str = str(bounding_box_km_offset)\n",
    "bb_km_str = bb_km_str.replace(\".\", \"_\")\n",
    "json_output_filename = \"distances_features_\" + bb_km_str + \".json\"\n",
    "\n",
    "df_feather = 'dataframe_sigla'\n",
    "df_sigla = pd.read_feather(df_feather)\n",
    "\n",
    "df_sigla[\"min_dist\"] = -1\n",
    "df_sigla[\"count_water_sources\"] = -1\n",
    "df_sigla = add_complete_geocode_address(df_sigla)\n",
    "\n",
    "addr_dict = {}\n",
    "    \n",
    "file_exists = os.path.exists(json_output_filename)\n",
    "if file_exists:\n",
    "    with open(json_output_filename, \"r\") as json_file:\n",
    "        geo_dict_obj = jsonpickle.decode(json_file.read())            \n",
    "        addr_dict = geo_dict_obj.features_dict  \n",
    "        \n",
    "#add latitude, longitude, min_dist, count_water_sources to dataframe sigla\n",
    "for index, row in df_sigla.iterrows():\n",
    "    address = row['geocode_address']\n",
    "    if address in addr_dict: \n",
    "        df_sigla.loc[index,\"latitude\"] = addr_dict[address].latitude\n",
    "        df_sigla.loc[index,\"longitude\"] = addr_dict[address].longitude\n",
    "        df_sigla.loc[index,\"min_dist\"] = addr_dict[address].min_dist\n",
    "        df_sigla.loc[index,\"count_water_sources\"] = addr_dict[address].water_count\n",
    "\n",
    "#save as feather\n",
    "df_sigla.to_feather(df_feather + '_water_dist_' + bb_km_str + '_out')\n",
    "#df_sigla.to_csv(\"df_sigla_distances_test_\" + bb_km_str + \".csv\", index=False)\n",
    "\n",
    "#substitute mid_dist = -1 with bounding_box_km_offset value and save as feather\n",
    "df_sigla.loc[df_sigla['min_dist'] == -1, 'min_dist'] = bounding_box_km_offset * 1000\n",
    "df_sigla.to_feather(df_feather + '_water_dist_' + bb_km_str)\n",
    "    "
   ]
  },
  {
   "cell_type": "markdown",
   "metadata": {},
   "source": [
    "Find rows with withrawal address with no water sources. Count "
   ]
  },
  {
   "cell_type": "code",
   "execution_count": 4,
   "metadata": {},
   "outputs": [
    {
     "name": "stdout",
     "output_type": "stream",
     "text": [
      "Total row\n",
      "218169\n",
      "Number of exams row with no water sources around 2_5 km\n",
      "1162\n",
      "PROVINCIA PRELIEVO  COMUNE PRELIEVO          INDIRIZZO PRELIEVO    \n",
      "AL                  ALFIANO NATTA            VIA ASTI 4                1\n",
      "                    TERZO                    VIA COTELLA 1             1\n",
      "AT                  MONTECHIARO D'ASTI       V. STAZIONE 73            1\n",
      "                    ROCCHETTA PALAFEA        VIA CORNIGLIANO 12        7\n",
      "BA                  ALTAMURA                 V. GRAVISCELLA CS         1\n",
      "                                                                      ..\n",
      "VA                  VARESE                   VIA MONTE BIANCO 162      1\n",
      "                    VIGGIU'                  VIA DEL ROCCOLO 33        1\n",
      "VR                  ILLASI                   VIA DANTE ALIGHIERI 18    1\n",
      "                    ROVERE' VERONESE         VIA MASO DI SOTTO 8       5\n",
      "VT                  CASTIGLIONE IN TEVERINA  VIA MORANDI 2             1\n",
      "Length: 206, dtype: int64\n"
     ]
    }
   ],
   "source": [
    "\n",
    "#bb_km_str = \"2_5\"\n",
    "\n",
    "print(\"Sigla dataframe Total row \" + str(len(df_sigla)))\n",
    "\n",
    "no_dist = df_sigla[df_sigla['min_dist']==-1]\n",
    "print(\"Number of exams rows with no water sources around \" + str(bounding_box_km_offset) + \" km: \" + str(len(no_dist)) + \"\\n\")\n",
    "\n",
    "#create files for rows with no water sources in 'bb_km_str' km\n",
    "no_dist.to_csv(\"df_sigla_no_dist_test_\" + bb_km_str + \".csv\", index=False)\n",
    "\n",
    "#no_dist_file = pd.read_csv(\"df_sigla_no_dist_test_\" + bb_km_str + \".csv\")\n",
    "count_df = no_dist.groupby(['PROVINCIA PRELIEVO', 'COMUNE PRELIEVO', 'INDIRIZZO PRELIEVO']).size()\n",
    "count_df.to_csv(\"conteggio_no_dist_\"+ bb_km_str +\".csv\", index=True)\n",
    "\n",
    "print(\"Count addresses with no sources water grouped by provincia, comune, indirizzo:\" )\n",
    "print(count_df) "
   ]
  },
  {
   "cell_type": "code",
   "execution_count": 26,
   "metadata": {},
   "outputs": [
    {
     "data": {
      "text/plain": [
       "'\\nfrom shapely import wkt\\n#Check if osm_id 934212353 and 565848958 water source is in file of water source of Lazio\\n#Check if osm_id 540137268 is in file of water of Veneto\\n#this check is for this address \"VIA VIGNE NUOVE 64,00045,GENZANO DI ROMA,RM,Italia\"\\n\\nwater_file_name = \\'Piemonte\\' + \"riverLakeUnion\"\\n\\nwater_layer = gpd.read_file(water_folder + water_file_name + \".gpkg\", layer=water_file_name)\\nprint(water_layer.columns)\\n#print(type(df_lazio_water.loc[2,\\'osm_id\\']))\\n#wl = water_layer.loc[water_layer[\\'osm_id\\'] == \\'202216969\\', \\'geometry\\']\\n#wl_bbox_test = water_layer.loc[water_layer[\\'osm_id\\'] == \\'202216969\\']\\n#print(wl.values[0])\\n#print(len(wl))\\n\\n#check if exist amenity column in Basilicata\\n#print(\\'amenity\\' in water_layer.columns)\\n#print(water_layer[water_layer[\\'amenity\\']==\\'fountain\\'])\\n#fountain_row_idx = water_layer.index[water_layer[\\'amenity\\']==\\'fountain\\'].tolist()\\n#print(fountain_row_idx)\\n\\n#gdfl = gpd.GeoDataFrame(gpd.GeoSeries(wl))\\ngdfl = gpd.GeoDataFrame(geometry=[shapely.wkt.loads(wkt.dumps(wl.values[0]))], crs=\"EPSG:4326\")\\ngdfp = gpd.GeoDataFrame(geometry=[shapely.wkt.loads(\"POINT (8.51111 44.60652)\")], crs=\"EPSG:4326\")\\n\\n\\nutm = gdfl.estimate_utm_crs()\\n#distances in meters from line in gdf1 and point in gdfp\\ndist = gdfl.to_crs(utm).distance(gdfp.to_crs(utm))\\nprint(\"Distance\\n\")\\nprint(dist)\\n\\n\\n#test for check boundig box and intersection\\ngdfp = gpd.GeoDataFrame(geometry=[shapely.wkt.loads(\"POINT (8.4200414 45.5978131)\")], crs=\"EPSG:4326\")\\n\\nhits = create_address_bounding_box(gdfp, water_layer, bounding_box_km_offset)\\nprint(typeof(hits))\\n'"
      ]
     },
     "execution_count": 26,
     "metadata": {},
     "output_type": "execute_result"
    }
   ],
   "source": [
    "'''\n",
    "from shapely import wkt\n",
    "#Check if osm_id 934212353 and 565848958 water source is in file of water source of Lazio\n",
    "#Check if osm_id 540137268 is in file of water of Veneto\n",
    "#this check is for this address \"VIA VIGNE NUOVE 64,00045,GENZANO DI ROMA,RM,Italia\"\n",
    "\n",
    "water_file_name = 'Piemonte' + \"riverLakeUnion\"\n",
    "\n",
    "water_layer = gpd.read_file(water_folder + water_file_name + \".gpkg\", layer=water_file_name)\n",
    "print(water_layer.columns)\n",
    "#print(type(df_lazio_water.loc[2,'osm_id']))\n",
    "#wl = water_layer.loc[water_layer['osm_id'] == '202216969', 'geometry']\n",
    "#wl_bbox_test = water_layer.loc[water_layer['osm_id'] == '202216969']\n",
    "#print(wl.values[0])\n",
    "#print(len(wl))\n",
    "\n",
    "#check if exist amenity column in Basilicata\n",
    "#print('amenity' in water_layer.columns)\n",
    "#print(water_layer[water_layer['amenity']=='fountain'])\n",
    "#fountain_row_idx = water_layer.index[water_layer['amenity']=='fountain'].tolist()\n",
    "#print(fountain_row_idx)\n",
    "\n",
    "#gdfl = gpd.GeoDataFrame(gpd.GeoSeries(wl))\n",
    "gdfl = gpd.GeoDataFrame(geometry=[shapely.wkt.loads(wkt.dumps(wl.values[0]))], crs=\"EPSG:4326\")\n",
    "gdfp = gpd.GeoDataFrame(geometry=[shapely.wkt.loads(\"POINT (8.51111 44.60652)\")], crs=\"EPSG:4326\")\n",
    "\n",
    "\n",
    "utm = gdfl.estimate_utm_crs()\n",
    "#distances in meters from line in gdf1 and point in gdfp\n",
    "dist = gdfl.to_crs(utm).distance(gdfp.to_crs(utm))\n",
    "print(\"Distance\\n\")\n",
    "print(dist)\n",
    "\n",
    "\n",
    "#test for check boundig box and intersection\n",
    "gdfp = gpd.GeoDataFrame(geometry=[shapely.wkt.loads(\"POINT (8.4200414 45.5978131)\")], crs=\"EPSG:4326\")\n",
    "\n",
    "hits = create_address_bounding_box(gdfp, water_layer, bounding_box_km_offset)\n",
    "print(typeof(hits))\n",
    "'''"
   ]
  },
  {
   "cell_type": "code",
   "execution_count": 28,
   "metadata": {},
   "outputs": [
    {
     "name": "stdout",
     "output_type": "stream",
     "text": [
      "PROVINCIA PRELIEVO  COMUNE PRELIEVO          INDIRIZZO PRELIEVO    \n",
      "AL                  ALFIANO NATTA            VIA ASTI 4                1\n",
      "                    TERZO                    VIA COTELLA 1             1\n",
      "AT                  MONTECHIARO D'ASTI       V. STAZIONE 73            1\n",
      "                    ROCCHETTA PALAFEA        VIA CORNIGLIANO 12        7\n",
      "BA                  ALTAMURA                 V. GRAVISCELLA CS         1\n",
      "                                                                      ..\n",
      "VA                  VARESE                   VIA MONTE BIANCO 162      1\n",
      "                    VIGGIU'                  VIA DEL ROCCOLO 33        1\n",
      "VR                  ILLASI                   VIA DANTE ALIGHIERI 18    1\n",
      "                    ROVERE' VERONESE         VIA MASO DI SOTTO 8       5\n",
      "VT                  CASTIGLIONE IN TEVERINA  VIA MORANDI 2             1\n",
      "Length: 194, dtype: int64\n"
     ]
    }
   ],
   "source": [
    "\n",
    "\n",
    "#check if this address \"VIA VIGNE NUOVE 64,00045,GENZANO DI ROMA,RM,Italia\" is in 'dataframe_sigla_water_others' file\n",
    "'''\n",
    "df = feather.read_feather('dataframe_sigla_water')\n",
    "addr = df.loc[df['INDIRIZZO PRELIEVO'] == 'LOC. PIANBOSCO 5']\n",
    "#print(addr)\n",
    "df = feather.read_feather('dataframe_sigla_water_others') \n",
    "addr = df.loc[df['INDIRIZZO PRELIEVO'] == 'VIA VIGNE NUOVE 64']\n",
    "#print(addr) \n",
    "\n",
    "addr = df.loc[df['PROVINCIA PRELIEVO'] == 'RM']\n",
    "#print(addr)\n",
    "#print(len(addr))\n",
    "\n",
    "sud_sardegna = df.loc[df['PROVINCIA PRELIEVO'] == 'SU']\n",
    "#print(sud_sardegna)\n",
    "#print(len(sud_sardegna))\n",
    "'''\n",
    "#bb_km_str = \"2_5\"\n"
   ]
  },
  {
   "cell_type": "code",
   "execution_count": 29,
   "metadata": {},
   "outputs": [
    {
     "data": {
      "text/plain": [
       "\"\\nimport pyarrow.feather as feather\\n\\ndf = feather.read_feather('dataframe_sigla_water_others')\\naddr = df.loc[df['PROVINCIA PRELIEVO'] == 'VT']\\nprint(len(addr))\\n\\n\\ndf = feather.read_feather('distances/Piemonte_salmonella_water_dist')\\nprint(len(df))\\n\""
      ]
     },
     "execution_count": 29,
     "metadata": {},
     "output_type": "execute_result"
    }
   ],
   "source": [
    "#this is for test. Run this before re-execute code and verify if the number of row increases\n",
    "'''\n",
    "import pyarrow.feather as feather\n",
    "\n",
    "df = feather.read_feather('dataframe_sigla_water_others')\n",
    "addr = df.loc[df['PROVINCIA PRELIEVO'] == 'VT']\n",
    "print(len(addr))\n",
    "\n",
    "\n",
    "df = feather.read_feather('distances/Piemonte_salmonella_water_dist')\n",
    "print(len(df))\n",
    "'''"
   ]
  },
  {
   "cell_type": "code",
   "execution_count": 30,
   "metadata": {},
   "outputs": [
    {
     "data": {
      "text/plain": [
       "'\\nbb_km_str = \"2_5\"\\n#code for test if json contains specific address\\njson_output_filename = \"distances_features_\" + bb_km_str + \".json\"\\n\\nwith open(json_output_filename, \"r\") as json_file:\\n    geo_dict_obj = jsonpickle.decode(json_file.read())            \\n    addr_dict = geo_dict_obj.features_dict\\nprint(addr_dict[\\'LOC. PRACCIA 16,15010,MORBELLO,AL,Italia\\'].latitude)\\nprint(addr_dict[\\'LOC. PRACCIA 16,15010,MORBELLO,AL,Italia\\'].longitude)\\nprint(addr_dict[\\'LOC. PRACCIA 16,15010,MORBELLO,AL,Italia\\'].min_dist)\\nprint(addr_dict[\\'LOC. PRACCIA 16,15010,MORBELLO,AL,Italia\\'].water_count)\\n\\n\\n#remove this address, because latitude and longitude are wrong. \\ndel addr_dict[\\'LOC.PRACCIA,15010,MORBELLO,AL,Italia\\']\\n\\nif \\'CONTRADA S. ELIA,72015,FASANO,BR,Italia\\' in addr_dict:\\n    print(\\'CONTRADA S. ELIA,72015,FASANO,BR,Italia is already in\\')\\nelse:\\n    print(\\'CONTRADA S. ELIA,72015,FASANO,BR,Italia ---->DELETED!\\')\\n\\nif \\'LOC.PRACCIA,15010,MORBELLO,AL,Italia\\' in addr_dict:\\n    print(\\'LOC.PRACCIA,15010,MORBELLO,AL,Italia is already in\\')\\nelse:\\n    print(\\'LOC.PRACCIA,15010,MORBELLO,AL,Italia ---->DELETED!\\')\\n\\nout_dict = DictDistFeatures(addr_dict)        \\n        \\nwith open(json_output_filename, \\'w\\') as file:\\n    out_dict_jason = jsonpickle.encode(out_dict)\\n    file.write(out_dict_jason)\\n        \\n#read complete feather and check if exists address\\nregion = \\'Piemonte\\'\\ndisease = \\'leishmania\\'\\nfeather_path = folder_distance + \"/\" + region + \"_\" + disease + \"_water_dist\"\\n\\ndf_water_dist = pd.read_feather(feather_path)\\n#find = df_water_dist.loc[df_water_dist[\\'geocode_address\\'].str.contains(\"15010,MORBELLO\", case=False)]\\n#find = df_water_dist.loc[df_water_dist[\\'geocode_address\\']==\"15010,MORBELLO,AL,Italia\"]\\nprint(df_water_dist)\\n#print(find)\\n'"
      ]
     },
     "execution_count": 30,
     "metadata": {},
     "output_type": "execute_result"
    }
   ],
   "source": [
    "#this code is for some checks\n",
    "'''\n",
    "bb_km_str = \"2_5\"\n",
    "#code for test if json contains specific address\n",
    "json_output_filename = \"distances_features_\" + bb_km_str + \".json\"\n",
    "\n",
    "with open(json_output_filename, \"r\") as json_file:\n",
    "    geo_dict_obj = jsonpickle.decode(json_file.read())            \n",
    "    addr_dict = geo_dict_obj.features_dict\n",
    "print(addr_dict['LOC. PRACCIA 16,15010,MORBELLO,AL,Italia'].latitude)\n",
    "print(addr_dict['LOC. PRACCIA 16,15010,MORBELLO,AL,Italia'].longitude)\n",
    "print(addr_dict['LOC. PRACCIA 16,15010,MORBELLO,AL,Italia'].min_dist)\n",
    "print(addr_dict['LOC. PRACCIA 16,15010,MORBELLO,AL,Italia'].water_count)\n",
    "\n",
    "\n",
    "#remove this address, because latitude and longitude are wrong. \n",
    "del addr_dict['LOC.PRACCIA,15010,MORBELLO,AL,Italia']\n",
    "\n",
    "if 'CONTRADA S. ELIA,72015,FASANO,BR,Italia' in addr_dict:\n",
    "    print('CONTRADA S. ELIA,72015,FASANO,BR,Italia is already in')\n",
    "else:\n",
    "    print('CONTRADA S. ELIA,72015,FASANO,BR,Italia ---->DELETED!')\n",
    "\n",
    "if 'LOC.PRACCIA,15010,MORBELLO,AL,Italia' in addr_dict:\n",
    "    print('LOC.PRACCIA,15010,MORBELLO,AL,Italia is already in')\n",
    "else:\n",
    "    print('LOC.PRACCIA,15010,MORBELLO,AL,Italia ---->DELETED!')\n",
    "\n",
    "out_dict = DictDistFeatures(addr_dict)        \n",
    "        \n",
    "with open(json_output_filename, 'w') as file:\n",
    "    out_dict_jason = jsonpickle.encode(out_dict)\n",
    "    file.write(out_dict_jason)\n",
    "        \n",
    "#read complete feather and check if exists address\n",
    "region = 'Piemonte'\n",
    "disease = 'leishmania'\n",
    "feather_path = folder_distance + \"/\" + region + \"_\" + disease + \"_water_dist\"\n",
    "\n",
    "df_water_dist = pd.read_feather(feather_path)\n",
    "#find = df_water_dist.loc[df_water_dist['geocode_address'].str.contains(\"15010,MORBELLO\", case=False)]\n",
    "#find = df_water_dist.loc[df_water_dist['geocode_address']==\"15010,MORBELLO,AL,Italia\"]\n",
    "print(df_water_dist)\n",
    "#print(find)\n",
    "'''\n"
   ]
  },
  {
   "cell_type": "code",
   "execution_count": 8,
   "metadata": {},
   "outputs": [
    {
     "name": "stdout",
     "output_type": "stream",
     "text": [
      "Num nan Liguria epatite is:0\n",
      "Num nan Liguria leishmania is:0\n",
      "Num nan Liguria leptospira is:0\n",
      "Num nan Liguria salmonella is:0\n",
      "Num nan VDA epatite is:0\n",
      "Num nan VDA leishmania is:0\n",
      "Num nan VDA leptospira is:0\n",
      "Num nan VDA salmonella is:0\n",
      "Num nan Piemonte epatite is:0\n",
      "Num nan Piemonte leishmania is:0\n",
      "Num nan Piemonte leptospira is:0\n",
      "Num nan Piemonte salmonella is:0\n",
      "Num nan Sicilia epatite is:0\n",
      "Num nan Sicilia leishmania is:0\n",
      "Num nan Sicilia leptospira is:0\n",
      "Num nan Sicilia salmonella is:0\n",
      "Num nan Marche epatite is:0\n",
      "Num nan Marche leishmania is:0\n",
      "Num nan Marche leptospira is:0\n",
      "Num nan Marche salmonella is:0\n",
      "Num nan Abruzzo epatite is:0\n",
      "Num nan Abruzzo leishmania is:0\n",
      "Num nan Abruzzo leptospira is:0\n",
      "Num nan Abruzzo salmonella is:0\n",
      "Num nan Toscana epatite is:0\n",
      "Num nan Toscana leishmania is:0\n",
      "Num nan Toscana leptospira is:0\n",
      "Num nan Toscana salmonella is:0\n",
      "Num nan Campania epatite is:0\n",
      "Num nan Campania leishmania is:0\n",
      "Num nan Campania leptospira is:0\n",
      "Num nan Campania salmonella is:0\n",
      "Num nan Puglia epatite is:0\n",
      "Num nan Puglia leishmania is:0\n",
      "Num nan Puglia leptospira is:0\n",
      "Num nan Puglia salmonella is:0\n",
      "Num nan EmiliaRomagna epatite is:0\n",
      "Num nan EmiliaRomagna leishmania is:0\n",
      "Num nan EmiliaRomagna leptospira is:0\n",
      "Num nan EmiliaRomagna salmonella is:0\n",
      "Num nan TAA epatite is:0\n",
      "Num nan TAA leishmania is:0\n",
      "Num nan TAA leptospira is:0\n",
      "Num nan TAA salmonella is:0\n",
      "Num nan Sardegna epatite is:0\n",
      "Num nan Sardegna leishmania is:0\n",
      "Num nan Sardegna leptospira is:0\n",
      "Num nan Sardegna salmonella is:0\n",
      "Num nan Molise epatite is:0\n",
      "Num nan Molise leishmania is:0\n",
      "Num nan Molise leptospira is:0\n",
      "Num nan Molise salmonella is:0\n",
      "Num nan Calabria epatite is:0\n",
      "Num nan Calabria leishmania is:0\n",
      "Num nan Calabria leptospira is:0\n",
      "Num nan Calabria salmonella is:0\n",
      "Num nan Lazio epatite is:0\n",
      "Num nan Lazio leishmania is:0\n",
      "Num nan Lazio leptospira is:0\n",
      "Num nan Lazio salmonella is:0\n",
      "Num nan FVG epatite is:0\n",
      "Num nan FVG leishmania is:0\n",
      "Num nan FVG leptospira is:0\n",
      "Num nan FVG salmonella is:0\n",
      "Num nan Basilicata epatite is:0\n",
      "Num nan Basilicata leishmania is:0\n",
      "Num nan Basilicata leptospira is:0\n",
      "Num nan Basilicata salmonella is:0\n",
      "Num nan Umbria epatite is:0\n",
      "Num nan Umbria leishmania is:0\n",
      "Num nan Umbria leptospira is:0\n",
      "Num nan Umbria salmonella is:0\n",
      "Num nan Lombardia epatite is:0\n",
      "Num nan Lombardia leishmania is:0\n",
      "Num nan Lombardia leptospira is:0\n",
      "Num nan Lombardia salmonella is:0\n",
      "Num nan Veneto epatite is:0\n",
      "Num nan Veneto leishmania is:0\n",
      "Num nan Veneto leptospira is:0\n",
      "Num nan Veneto salmonella is:0\n"
     ]
    }
   ],
   "source": [
    "for region in target_region:\n",
    "    for disease in diseases:\n",
    "        num_files = 1\n",
    "        if region in splitted_regions and disease in splitted_diseases:\n",
    "            num_files = region_n_files[region]\n",
    "        \n",
    "        for i in range(num_files):\n",
    "            addresses_file = region + \"/\" \n",
    "            if region in splitted_regions and disease in splitted_diseases:\n",
    "                addresses_file = addresses_file + 'split/'\n",
    "            addresses_file = addresses_file + address_file_prefix + \"_\" + region + \"_\" + disease + \"_output\" \n",
    "            if region in splitted_regions and disease in splitted_diseases:\n",
    "                addresses_file = addresses_file + str(i+1)\n",
    "            addresses_file = addresses_file + \".csv\"\n",
    "            if os.path.exists(addresses_file):\n",
    "                adresses_df = pd.read_csv(addresses_file)\n",
    "                inds = np.where(adresses_df['latitude'].isna())[0]\n",
    "                print('Num nan ' + region + ' ' + disease + ' is:' + str(len(inds)))\n",
    "            "
   ]
  }
 ],
 "metadata": {
  "interpreter": {
   "hash": "9cd6fcaf743aa13367492d46e1587600e1c548e8e288e634bef18d3eb4a27d05"
  },
  "kernelspec": {
   "display_name": "Python 3.7.11 64-bit ('py37-new': conda)",
   "language": "python",
   "name": "python3"
  },
  "language_info": {
   "codemirror_mode": {
    "name": "ipython",
    "version": 3
   },
   "file_extension": ".py",
   "mimetype": "text/x-python",
   "name": "python",
   "nbconvert_exporter": "python",
   "pygments_lexer": "ipython3",
   "version": "3.8.12"
  },
  "orig_nbformat": 4
 },
 "nbformat": 4,
 "nbformat_minor": 2
}
